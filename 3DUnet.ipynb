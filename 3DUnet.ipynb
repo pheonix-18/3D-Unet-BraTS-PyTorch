{
 "cells": [
  {
   "cell_type": "code",
   "execution_count": 1,
   "id": "69f4a641-aa8f-4dd7-a1fd-dccde8bf9e43",
   "metadata": {},
   "outputs": [],
   "source": [
    "import torch\n",
    "import pandas as pd\n",
    "import numpy as np\n",
    "import torch.nn as nn\n",
    "from torch.utils.data import Dataset, DataLoader\n",
    "import os\n",
    "from glob import glob\n",
    "import nibabel as nib\n",
    "import pickle\n",
    "from tqdm import tqdm\n",
    "import random\n",
    "from torchvision.transforms import transforms\n",
    "from scipy import ndimage\n",
    "import matplotlib.pyplot as plt\n",
    "\n",
    "device = 'cuda' if torch.cuda.is_available() else 'cpu'"
   ]
  },
  {
   "cell_type": "code",
   "execution_count": 3,
   "id": "da04308d-7bc6-4178-a080-c1405d10485d",
   "metadata": {
    "collapsed": true,
    "jupyter": {
     "outputs_hidden": true
    },
    "tags": []
   },
   "outputs": [
    {
     "ename": "NameError",
     "evalue": "name 'nibabel' is not defined",
     "output_type": "error",
     "traceback": [
      "\u001b[0;31m---------------------------------------------------------------------------\u001b[0m",
      "\u001b[0;31mNameError\u001b[0m                                 Traceback (most recent call last)",
      "Input \u001b[0;32mIn [3]\u001b[0m, in \u001b[0;36m<cell line: 1>\u001b[0;34m()\u001b[0m\n\u001b[0;32m----> 1\u001b[0m \u001b[43mnibabel\u001b[49m\u001b[38;5;241m.\u001b[39m__version__\n",
      "\u001b[0;31mNameError\u001b[0m: name 'nibabel' is not defined"
     ]
    }
   ],
   "source": [
    "nibabel.__version__"
   ]
  },
  {
   "cell_type": "code",
   "execution_count": 2,
   "id": "b5fbe344-7513-4e31-bdb9-3bd658dff28d",
   "metadata": {},
   "outputs": [
    {
     "name": "stdout",
     "output_type": "stream",
     "text": [
      "Fri Apr  8 14:08:51 2022       \n",
      "+-----------------------------------------------------------------------------+\n",
      "| NVIDIA-SMI 510.47.03    Driver Version: 510.47.03    CUDA Version: 11.6     |\n",
      "|-------------------------------+----------------------+----------------------+\n",
      "| GPU  Name        Persistence-M| Bus-Id        Disp.A | Volatile Uncorr. ECC |\n",
      "| Fan  Temp  Perf  Pwr:Usage/Cap|         Memory-Usage | GPU-Util  Compute M. |\n",
      "|                               |                      |               MIG M. |\n",
      "|===============================+======================+======================|\n",
      "|   0  Tesla V100-PCIE...  On   | 00000000:5E:00.0 Off |                    0 |\n",
      "| N/A   26C    P0    25W / 250W |      4MiB / 32768MiB |      0%      Default |\n",
      "|                               |                      |                  N/A |\n",
      "+-------------------------------+----------------------+----------------------+\n",
      "|   1  Tesla V100-PCIE...  On   | 00000000:86:00.0 Off |                    0 |\n",
      "| N/A   27C    P0    24W / 250W |      4MiB / 32768MiB |      0%      Default |\n",
      "|                               |                      |                  N/A |\n",
      "+-------------------------------+----------------------+----------------------+\n",
      "                                                                               \n",
      "+-----------------------------------------------------------------------------+\n",
      "| Processes:                                                                  |\n",
      "|  GPU   GI   CI        PID   Type   Process name                  GPU Memory |\n",
      "|        ID   ID                                                   Usage      |\n",
      "|=============================================================================|\n",
      "|  No running processes found                                                 |\n",
      "+-----------------------------------------------------------------------------+\n"
     ]
    }
   ],
   "source": [
    "!nvidia-smi"
   ]
  },
  {
   "cell_type": "code",
   "execution_count": 2,
   "id": "e2889024-6ee0-4c58-9f06-c85d231544cc",
   "metadata": {},
   "outputs": [],
   "source": [
    "train_imgs = '/home/sarucrcv/datasets/Task01_BrainTumour/imagesTr/'\n",
    "train_labels = '/home/sarucrcv/datasets/Task01_BrainTumour/labelsTr/'"
   ]
  },
  {
   "cell_type": "code",
   "execution_count": 3,
   "id": "fb4a520a-dff6-481a-a5a2-162842c6f51f",
   "metadata": {},
   "outputs": [
    {
     "data": {
      "text/plain": [
       "484"
      ]
     },
     "execution_count": 3,
     "metadata": {},
     "output_type": "execute_result"
    }
   ],
   "source": [
    "imgsList = os.listdir(train_imgs)\n",
    "len(imgsList)"
   ]
  },
  {
   "cell_type": "code",
   "execution_count": 5,
   "id": "96ecd946-2950-428c-8b2f-dff87bcf3c56",
   "metadata": {},
   "outputs": [],
   "source": [
    "with open('train.txt','w') as f:\n",
    "    \n",
    "    f.write('\\n'.join(imgsList[:400]))\n",
    "    f.close()\n",
    "    \n",
    "with open('val.txt','w') as f:\n",
    "    \n",
    "    f.write('\\n'.join(imgsList[400:]))"
   ]
  },
  {
   "cell_type": "code",
   "execution_count": 3,
   "id": "fe06cb20-5df1-4235-a35d-34c3c7308dd4",
   "metadata": {},
   "outputs": [],
   "source": [
    "\n",
    "modalities = ('flair', 't1ce', 't1', 't2')\n",
    "\n",
    "# train\n",
    "train_set = {\n",
    "        'tpath': '/home/sarucrcv/projects/3dunet/train_pkl_all/', #Target Path of pickle files\n",
    "        'root': '/home/sarucrcv/datasets/Task01_BrainTumour/', \n",
    "        'flist': 'train.txt',\n",
    "        'has_label': True\n",
    "        }\n",
    "\n",
    "# test/validation data\n",
    "valid_set = {\n",
    "        'tpath': '/home/sarucrcv/projects/3dunet/val_pkl_all/',\n",
    "        'root': '/home/sarucrcv/datasets/Task01_BrainTumour/',\n",
    "        'flist': 'val.txt',\n",
    "        'has_label': True\n",
    "        }\n",
    "\n",
    "\n",
    "def nib_load(file_name):\n",
    "    if not os.path.exists(file_name):\n",
    "        print('Invalid file name, can not find the file!')\n",
    "\n",
    "    proxy = nib.load(file_name)\n",
    "    data = proxy.get_fdata()\n",
    "    proxy.uncache()\n",
    "    return data\n",
    "\n",
    "\n",
    "def process_i16(path, has_label=True):\n",
    "    \"\"\" Save the original 3D MRI images with dtype=int16.\n",
    "        Noted that no normalization is used! \"\"\"\n",
    "    label = np.array(nib_load(path + 'seg.nii.gz'), dtype='uint8', order='C')\n",
    "\n",
    "    images = np.stack([\n",
    "        np.array(nib_load(path + modal + '.nii.gz'), dtype='int16', order='C')\n",
    "        for modal in modalities], -1)# [240,240,155]\n",
    "\n",
    "    output = path + 'data_i16.pkl'\n",
    "\n",
    "    with open(output, 'wb') as f:\n",
    "        print(output)\n",
    "        print(images.shape, type(images), label.shape, type(label))  # (240,240,155,4) , (240,240,155)\n",
    "        pickle.dump((images, label), f)\n",
    "\n",
    "    if not has_label:\n",
    "        return\n",
    "\n",
    "\n",
    "def process_f32b0(tpath, img_path, label_path, has_label=True):\n",
    "    \"\"\" Save the data with dtype=float32.\n",
    "        z-score is used but keep the background with zero! \"\"\"\n",
    "    \n",
    "    label = np.array(nib_load(label_path), dtype='uint8', order='C')\n",
    "    images = np.stack(np.array(nib_load(img_path), dtype='float32', order='C'))  # [240,240,155]\n",
    "    foldername = img_path.split('/')[-1]\n",
    "    output = tpath + foldername + '_data_f32b0.pkl'\n",
    "    mask = images.sum(-1) > 0\n",
    "    for k in range(4):\n",
    "\n",
    "        x = images[..., k]  #\n",
    "        y = x[mask]\n",
    "\n",
    "        # 0.8885\n",
    "        x[mask] -= y.mean()\n",
    "        x[mask] /= y.std()\n",
    "\n",
    "        images[..., k] = x\n",
    "\n",
    "    with open(output, 'wb') as f:\n",
    "        print(output)\n",
    "\n",
    "        if has_label:\n",
    "            pickle.dump((images, label), f)\n",
    "        else:\n",
    "            pickle.dump(images, f)\n",
    "\n",
    "    if not has_label:\n",
    "        return\n",
    "\n",
    "\n",
    "def doit(dset):\n",
    "    root, has_label = dset['root'], dset['has_label']\n",
    "    file_list = os.path.join(dset['flist'])\n",
    "    names = open(file_list).read().splitlines()\n",
    "    imgs_paths = [os.path.join(root, 'imagesTr', name) for name in names]\n",
    "    labels_paths = [os.path.join(root, 'labelsTr', name) for name in names]\n",
    "\n",
    "    for i in tqdm(range(len(imgs_paths))):\n",
    "        process_f32b0(dset['tpath'],imgs_paths[i], labels_paths[i], has_label)\n",
    "\n",
    "\n",
    "    # doit(test_set)\n"
   ]
  },
  {
   "cell_type": "code",
   "execution_count": 4,
   "id": "1a081c60-7516-4420-910f-76a5bd33fa83",
   "metadata": {
    "tags": []
   },
   "outputs": [
    {
     "name": "stderr",
     "output_type": "stream",
     "text": [
      "  0%|          | 0/400 [00:00<?, ?it/s]"
     ]
    },
    {
     "name": "stdout",
     "output_type": "stream",
     "text": [
      "/home/sarucrcv/projects/3dunet/train_pkl_all/BRATS_324.nii.gz_data_f32b0.pkl\n"
     ]
    },
    {
     "name": "stderr",
     "output_type": "stream",
     "text": [
      "  0%|          | 1/400 [00:01<13:15,  1.99s/it]"
     ]
    },
    {
     "name": "stdout",
     "output_type": "stream",
     "text": [
      "/home/sarucrcv/projects/3dunet/train_pkl_all/BRATS_119.nii.gz_data_f32b0.pkl\n"
     ]
    },
    {
     "name": "stderr",
     "output_type": "stream",
     "text": [
      "  1%|          | 3/400 [00:05<12:55,  1.95s/it]"
     ]
    },
    {
     "name": "stdout",
     "output_type": "stream",
     "text": [
      "/home/sarucrcv/projects/3dunet/train_pkl_all/BRATS_257.nii.gz_data_f32b0.pkl\n"
     ]
    },
    {
     "name": "stderr",
     "output_type": "stream",
     "text": [
      "  1%|          | 3/400 [00:07<15:51,  2.40s/it]\n"
     ]
    },
    {
     "ename": "KeyboardInterrupt",
     "evalue": "",
     "output_type": "error",
     "traceback": [
      "\u001b[0;31m---------------------------------------------------------------------------\u001b[0m",
      "\u001b[0;31mKeyboardInterrupt\u001b[0m                         Traceback (most recent call last)",
      "Input \u001b[0;32mIn [4]\u001b[0m, in \u001b[0;36m<cell line: 1>\u001b[0;34m()\u001b[0m\n\u001b[0;32m----> 1\u001b[0m \u001b[43mdoit\u001b[49m\u001b[43m(\u001b[49m\u001b[43mtrain_set\u001b[49m\u001b[43m)\u001b[49m\n",
      "Input \u001b[0;32mIn [3]\u001b[0m, in \u001b[0;36mdoit\u001b[0;34m(dset)\u001b[0m\n\u001b[1;32m     87\u001b[0m labels_paths \u001b[38;5;241m=\u001b[39m [os\u001b[38;5;241m.\u001b[39mpath\u001b[38;5;241m.\u001b[39mjoin(root, \u001b[38;5;124m'\u001b[39m\u001b[38;5;124mlabelsTr\u001b[39m\u001b[38;5;124m'\u001b[39m, name) \u001b[38;5;28;01mfor\u001b[39;00m name \u001b[38;5;129;01min\u001b[39;00m names]\n\u001b[1;32m     89\u001b[0m \u001b[38;5;28;01mfor\u001b[39;00m i \u001b[38;5;129;01min\u001b[39;00m tqdm(\u001b[38;5;28mrange\u001b[39m(\u001b[38;5;28mlen\u001b[39m(imgs_paths))):\n\u001b[0;32m---> 90\u001b[0m     \u001b[43mprocess_f32b0\u001b[49m\u001b[43m(\u001b[49m\u001b[43mdset\u001b[49m\u001b[43m[\u001b[49m\u001b[38;5;124;43m'\u001b[39;49m\u001b[38;5;124;43mtpath\u001b[39;49m\u001b[38;5;124;43m'\u001b[39;49m\u001b[43m]\u001b[49m\u001b[43m,\u001b[49m\u001b[43mimgs_paths\u001b[49m\u001b[43m[\u001b[49m\u001b[43mi\u001b[49m\u001b[43m]\u001b[49m\u001b[43m,\u001b[49m\u001b[43m \u001b[49m\u001b[43mlabels_paths\u001b[49m\u001b[43m[\u001b[49m\u001b[43mi\u001b[49m\u001b[43m]\u001b[49m\u001b[43m,\u001b[49m\u001b[43m \u001b[49m\u001b[43mhas_label\u001b[49m\u001b[43m)\u001b[49m\n",
      "Input \u001b[0;32mIn [3]\u001b[0m, in \u001b[0;36mprocess_f32b0\u001b[0;34m(tpath, img_path, label_path, has_label)\u001b[0m\n\u001b[1;32m     51\u001b[0m \u001b[38;5;124;03m\"\"\" Save the data with dtype=float32.\u001b[39;00m\n\u001b[1;32m     52\u001b[0m \u001b[38;5;124;03m    z-score is used but keep the background with zero! \"\"\"\u001b[39;00m\n\u001b[1;32m     54\u001b[0m label \u001b[38;5;241m=\u001b[39m np\u001b[38;5;241m.\u001b[39marray(nib_load(label_path), dtype\u001b[38;5;241m=\u001b[39m\u001b[38;5;124m'\u001b[39m\u001b[38;5;124muint8\u001b[39m\u001b[38;5;124m'\u001b[39m, order\u001b[38;5;241m=\u001b[39m\u001b[38;5;124m'\u001b[39m\u001b[38;5;124mC\u001b[39m\u001b[38;5;124m'\u001b[39m)\n\u001b[0;32m---> 55\u001b[0m images \u001b[38;5;241m=\u001b[39m np\u001b[38;5;241m.\u001b[39mstack(\u001b[43mnp\u001b[49m\u001b[38;5;241;43m.\u001b[39;49m\u001b[43marray\u001b[49m\u001b[43m(\u001b[49m\u001b[43mnib_load\u001b[49m\u001b[43m(\u001b[49m\u001b[43mimg_path\u001b[49m\u001b[43m)\u001b[49m\u001b[43m,\u001b[49m\u001b[43m \u001b[49m\u001b[43mdtype\u001b[49m\u001b[38;5;241;43m=\u001b[39;49m\u001b[38;5;124;43m'\u001b[39;49m\u001b[38;5;124;43mfloat32\u001b[39;49m\u001b[38;5;124;43m'\u001b[39;49m\u001b[43m,\u001b[49m\u001b[43m \u001b[49m\u001b[43morder\u001b[49m\u001b[38;5;241;43m=\u001b[39;49m\u001b[38;5;124;43m'\u001b[39;49m\u001b[38;5;124;43mC\u001b[39;49m\u001b[38;5;124;43m'\u001b[39;49m\u001b[43m)\u001b[49m)  \u001b[38;5;66;03m# [240,240,155]\u001b[39;00m\n\u001b[1;32m     56\u001b[0m foldername \u001b[38;5;241m=\u001b[39m img_path\u001b[38;5;241m.\u001b[39msplit(\u001b[38;5;124m'\u001b[39m\u001b[38;5;124m/\u001b[39m\u001b[38;5;124m'\u001b[39m)[\u001b[38;5;241m-\u001b[39m\u001b[38;5;241m1\u001b[39m]\n\u001b[1;32m     57\u001b[0m output \u001b[38;5;241m=\u001b[39m tpath \u001b[38;5;241m+\u001b[39m foldername \u001b[38;5;241m+\u001b[39m \u001b[38;5;124m'\u001b[39m\u001b[38;5;124m_data_f32b0.pkl\u001b[39m\u001b[38;5;124m'\u001b[39m\n",
      "\u001b[0;31mKeyboardInterrupt\u001b[0m: "
     ]
    }
   ],
   "source": [
    "doit(train_set)"
   ]
  },
  {
   "cell_type": "code",
   "execution_count": 109,
   "id": "87de2cb9-b7fe-48fd-97f5-421ae57b4a5a",
   "metadata": {},
   "outputs": [
    {
     "name": "stderr",
     "output_type": "stream",
     "text": [
      "  1%|          | 1/84 [00:01<02:43,  1.97s/it]"
     ]
    },
    {
     "name": "stdout",
     "output_type": "stream",
     "text": [
      "/home/sarucrcv/projects/3dunet/val_pkl_all/BRATS_427.nii.gz_data_f32b0.pkl\n",
      "/home/sarucrcv/projects/3dunet/val_pkl_all/BRATS_373.nii.gz_data_f32b0.pkl\n"
     ]
    },
    {
     "name": "stderr",
     "output_type": "stream",
     "text": [
      "  4%|▎         | 3/84 [00:05<02:36,  1.93s/it]"
     ]
    },
    {
     "name": "stdout",
     "output_type": "stream",
     "text": [
      "/home/sarucrcv/projects/3dunet/val_pkl_all/BRATS_333.nii.gz_data_f32b0.pkl\n"
     ]
    },
    {
     "name": "stderr",
     "output_type": "stream",
     "text": [
      "  5%|▍         | 4/84 [00:07<02:34,  1.93s/it]"
     ]
    },
    {
     "name": "stdout",
     "output_type": "stream",
     "text": [
      "/home/sarucrcv/projects/3dunet/val_pkl_all/BRATS_195.nii.gz_data_f32b0.pkl\n"
     ]
    },
    {
     "name": "stderr",
     "output_type": "stream",
     "text": [
      "  6%|▌         | 5/84 [00:09<02:32,  1.93s/it]"
     ]
    },
    {
     "name": "stdout",
     "output_type": "stream",
     "text": [
      "/home/sarucrcv/projects/3dunet/val_pkl_all/BRATS_467.nii.gz_data_f32b0.pkl\n"
     ]
    },
    {
     "name": "stderr",
     "output_type": "stream",
     "text": [
      "  7%|▋         | 6/84 [00:11<02:30,  1.93s/it]"
     ]
    },
    {
     "name": "stdout",
     "output_type": "stream",
     "text": [
      "/home/sarucrcv/projects/3dunet/val_pkl_all/BRATS_240.nii.gz_data_f32b0.pkl\n"
     ]
    },
    {
     "name": "stderr",
     "output_type": "stream",
     "text": [
      "  8%|▊         | 7/84 [00:13<02:29,  1.94s/it]"
     ]
    },
    {
     "name": "stdout",
     "output_type": "stream",
     "text": [
      "/home/sarucrcv/projects/3dunet/val_pkl_all/BRATS_216.nii.gz_data_f32b0.pkl\n"
     ]
    },
    {
     "name": "stderr",
     "output_type": "stream",
     "text": [
      " 10%|▉         | 8/84 [00:15<02:28,  1.96s/it]"
     ]
    },
    {
     "name": "stdout",
     "output_type": "stream",
     "text": [
      "/home/sarucrcv/projects/3dunet/val_pkl_all/BRATS_431.nii.gz_data_f32b0.pkl\n"
     ]
    },
    {
     "name": "stderr",
     "output_type": "stream",
     "text": [
      " 11%|█         | 9/84 [00:17<02:26,  1.95s/it]"
     ]
    },
    {
     "name": "stdout",
     "output_type": "stream",
     "text": [
      "/home/sarucrcv/projects/3dunet/val_pkl_all/BRATS_158.nii.gz_data_f32b0.pkl\n"
     ]
    },
    {
     "name": "stderr",
     "output_type": "stream",
     "text": [
      " 12%|█▏        | 10/84 [00:19<02:24,  1.95s/it]"
     ]
    },
    {
     "name": "stdout",
     "output_type": "stream",
     "text": [
      "/home/sarucrcv/projects/3dunet/val_pkl_all/BRATS_365.nii.gz_data_f32b0.pkl\n"
     ]
    },
    {
     "name": "stderr",
     "output_type": "stream",
     "text": [
      " 13%|█▎        | 11/84 [00:21<02:24,  1.98s/it]"
     ]
    },
    {
     "name": "stdout",
     "output_type": "stream",
     "text": [
      "/home/sarucrcv/projects/3dunet/val_pkl_all/BRATS_118.nii.gz_data_f32b0.pkl\n"
     ]
    },
    {
     "name": "stderr",
     "output_type": "stream",
     "text": [
      " 14%|█▍        | 12/84 [00:23<02:22,  1.98s/it]"
     ]
    },
    {
     "name": "stdout",
     "output_type": "stream",
     "text": [
      "/home/sarucrcv/projects/3dunet/val_pkl_all/BRATS_325.nii.gz_data_f32b0.pkl\n"
     ]
    },
    {
     "name": "stderr",
     "output_type": "stream",
     "text": [
      " 15%|█▌        | 13/84 [00:25<02:20,  1.99s/it]"
     ]
    },
    {
     "name": "stdout",
     "output_type": "stream",
     "text": [
      "/home/sarucrcv/projects/3dunet/val_pkl_all/BRATS_183.nii.gz_data_f32b0.pkl\n"
     ]
    },
    {
     "name": "stderr",
     "output_type": "stream",
     "text": [
      " 17%|█▋        | 14/84 [00:27<02:18,  1.98s/it]"
     ]
    },
    {
     "name": "stdout",
     "output_type": "stream",
     "text": [
      "/home/sarucrcv/projects/3dunet/val_pkl_all/BRATS_471.nii.gz_data_f32b0.pkl\n"
     ]
    },
    {
     "name": "stderr",
     "output_type": "stream",
     "text": [
      " 18%|█▊        | 15/84 [00:29<02:16,  1.98s/it]"
     ]
    },
    {
     "name": "stdout",
     "output_type": "stream",
     "text": [
      "/home/sarucrcv/projects/3dunet/val_pkl_all/BRATS_256.nii.gz_data_f32b0.pkl\n"
     ]
    },
    {
     "name": "stderr",
     "output_type": "stream",
     "text": [
      " 19%|█▉        | 16/84 [00:31<02:13,  1.97s/it]"
     ]
    },
    {
     "name": "stdout",
     "output_type": "stream",
     "text": [
      "/home/sarucrcv/projects/3dunet/val_pkl_all/BRATS_070.nii.gz_data_f32b0.pkl\n"
     ]
    },
    {
     "name": "stderr",
     "output_type": "stream",
     "text": [
      " 20%|██        | 17/84 [00:33<02:11,  1.96s/it]"
     ]
    },
    {
     "name": "stdout",
     "output_type": "stream",
     "text": [
      "/home/sarucrcv/projects/3dunet/val_pkl_all/BRATS_198.nii.gz_data_f32b0.pkl\n"
     ]
    },
    {
     "name": "stderr",
     "output_type": "stream",
     "text": [
      " 21%|██▏       | 18/84 [00:35<02:09,  1.96s/it]"
     ]
    },
    {
     "name": "stdout",
     "output_type": "stream",
     "text": [
      "/home/sarucrcv/projects/3dunet/val_pkl_all/BRATS_103.nii.gz_data_f32b0.pkl\n"
     ]
    },
    {
     "name": "stderr",
     "output_type": "stream",
     "text": [
      " 23%|██▎       | 19/84 [00:37<02:07,  1.96s/it]"
     ]
    },
    {
     "name": "stdout",
     "output_type": "stream",
     "text": [
      "/home/sarucrcv/projects/3dunet/val_pkl_all/BRATS_296.nii.gz_data_f32b0.pkl\n"
     ]
    },
    {
     "name": "stderr",
     "output_type": "stream",
     "text": [
      " 24%|██▍       | 20/84 [00:39<02:05,  1.95s/it]"
     ]
    },
    {
     "name": "stdout",
     "output_type": "stream",
     "text": [
      "/home/sarucrcv/projects/3dunet/val_pkl_all/BRATS_143.nii.gz_data_f32b0.pkl\n",
      "/home/sarucrcv/projects/3dunet/val_pkl_all/BRATS_030.nii.gz_data_f32b0.pkl\n"
     ]
    },
    {
     "name": "stderr",
     "output_type": "stream",
     "text": [
      " 26%|██▌       | 22/84 [00:43<02:01,  1.95s/it]"
     ]
    },
    {
     "name": "stdout",
     "output_type": "stream",
     "text": [
      "/home/sarucrcv/projects/3dunet/val_pkl_all/BRATS_350.nii.gz_data_f32b0.pkl\n",
      "/home/sarucrcv/projects/3dunet/val_pkl_all/BRATS_085.nii.gz_data_f32b0.pkl\n"
     ]
    },
    {
     "name": "stderr",
     "output_type": "stream",
     "text": [
      " 27%|██▋       | 23/84 [00:45<01:59,  1.96s/it]"
     ]
    },
    {
     "name": "stdout",
     "output_type": "stream",
     "text": [
      "/home/sarucrcv/projects/3dunet/val_pkl_all/BRATS_223.nii.gz_data_f32b0.pkl\n"
     ]
    },
    {
     "name": "stderr",
     "output_type": "stream",
     "text": [
      " 30%|██▉       | 25/84 [00:49<01:56,  1.98s/it]"
     ]
    },
    {
     "name": "stdout",
     "output_type": "stream",
     "text": [
      "/home/sarucrcv/projects/3dunet/val_pkl_all/BRATS_404.nii.gz_data_f32b0.pkl\n"
     ]
    },
    {
     "name": "stderr",
     "output_type": "stream",
     "text": [
      " 31%|███       | 26/84 [00:51<01:54,  1.97s/it]"
     ]
    },
    {
     "name": "stdout",
     "output_type": "stream",
     "text": [
      "/home/sarucrcv/projects/3dunet/val_pkl_all/BRATS_444.nii.gz_data_f32b0.pkl\n"
     ]
    },
    {
     "name": "stderr",
     "output_type": "stream",
     "text": [
      " 32%|███▏      | 27/84 [00:52<01:51,  1.96s/it]"
     ]
    },
    {
     "name": "stdout",
     "output_type": "stream",
     "text": [
      "/home/sarucrcv/projects/3dunet/val_pkl_all/BRATS_263.nii.gz_data_f32b0.pkl\n"
     ]
    },
    {
     "name": "stderr",
     "output_type": "stream",
     "text": [
      " 33%|███▎      | 28/84 [00:54<01:48,  1.95s/it]"
     ]
    },
    {
     "name": "stdout",
     "output_type": "stream",
     "text": [
      "/home/sarucrcv/projects/3dunet/val_pkl_all/BRATS_310.nii.gz_data_f32b0.pkl\n"
     ]
    },
    {
     "name": "stderr",
     "output_type": "stream",
     "text": [
      " 35%|███▍      | 29/84 [00:56<01:48,  1.97s/it]"
     ]
    },
    {
     "name": "stdout",
     "output_type": "stream",
     "text": [
      "/home/sarucrcv/projects/3dunet/val_pkl_all/BRATS_136.nii.gz_data_f32b0.pkl\n",
      "/home/sarucrcv/projects/3dunet/val_pkl_all/BRATS_045.nii.gz_data_f32b0.pkl\n"
     ]
    },
    {
     "name": "stderr",
     "output_type": "stream",
     "text": [
      " 37%|███▋      | 31/84 [01:00<01:44,  1.98s/it]"
     ]
    },
    {
     "name": "stdout",
     "output_type": "stream",
     "text": [
      "/home/sarucrcv/projects/3dunet/val_pkl_all/BRATS_390.nii.gz_data_f32b0.pkl\n"
     ]
    },
    {
     "name": "stderr",
     "output_type": "stream",
     "text": [
      " 38%|███▊      | 32/84 [01:02<01:42,  1.97s/it]"
     ]
    },
    {
     "name": "stdout",
     "output_type": "stream",
     "text": [
      "/home/sarucrcv/projects/3dunet/val_pkl_all/BRATS_278.nii.gz_data_f32b0.pkl\n"
     ]
    },
    {
     "name": "stderr",
     "output_type": "stream",
     "text": [
      " 39%|███▉      | 33/84 [01:04<01:40,  1.97s/it]"
     ]
    },
    {
     "name": "stdout",
     "output_type": "stream",
     "text": [
      "/home/sarucrcv/projects/3dunet/val_pkl_all/BRATS_005.nii.gz_data_f32b0.pkl\n",
      "/home/sarucrcv/projects/3dunet/val_pkl_all/BRATS_238.nii.gz_data_f32b0.pkl\n"
     ]
    },
    {
     "name": "stderr",
     "output_type": "stream",
     "text": [
      " 40%|████      | 34/84 [01:06<01:38,  1.96s/it]"
     ]
    },
    {
     "name": "stdout",
     "output_type": "stream",
     "text": [
      "/home/sarucrcv/projects/3dunet/val_pkl_all/BRATS_484.nii.gz_data_f32b0.pkl\n"
     ]
    },
    {
     "name": "stderr",
     "output_type": "stream",
     "text": [
      " 43%|████▎     | 36/84 [01:10<01:34,  1.96s/it]"
     ]
    },
    {
     "name": "stdout",
     "output_type": "stream",
     "text": [
      "/home/sarucrcv/projects/3dunet/val_pkl_all/BRATS_176.nii.gz_data_f32b0.pkl\n"
     ]
    },
    {
     "name": "stderr",
     "output_type": "stream",
     "text": [
      " 44%|████▍     | 37/84 [01:12<01:32,  1.97s/it]"
     ]
    },
    {
     "name": "stdout",
     "output_type": "stream",
     "text": [
      "/home/sarucrcv/projects/3dunet/val_pkl_all/BRATS_120.nii.gz_data_f32b0.pkl\n"
     ]
    },
    {
     "name": "stderr",
     "output_type": "stream",
     "text": [
      " 45%|████▌     | 38/84 [01:14<01:29,  1.95s/it]"
     ]
    },
    {
     "name": "stdout",
     "output_type": "stream",
     "text": [
      "/home/sarucrcv/projects/3dunet/val_pkl_all/BRATS_053.nii.gz_data_f32b0.pkl\n"
     ]
    },
    {
     "name": "stderr",
     "output_type": "stream",
     "text": [
      " 46%|████▋     | 39/84 [01:16<01:27,  1.95s/it]"
     ]
    },
    {
     "name": "stdout",
     "output_type": "stream",
     "text": [
      "/home/sarucrcv/projects/3dunet/val_pkl_all/BRATS_386.nii.gz_data_f32b0.pkl\n"
     ]
    },
    {
     "name": "stderr",
     "output_type": "stream",
     "text": [
      " 48%|████▊     | 40/84 [01:18<01:25,  1.94s/it]"
     ]
    },
    {
     "name": "stdout",
     "output_type": "stream",
     "text": [
      "/home/sarucrcv/projects/3dunet/val_pkl_all/BRATS_449.nii.gz_data_f32b0.pkl\n"
     ]
    },
    {
     "name": "stderr",
     "output_type": "stream",
     "text": [
      " 49%|████▉     | 41/84 [01:20<01:23,  1.95s/it]"
     ]
    },
    {
     "name": "stdout",
     "output_type": "stream",
     "text": [
      "/home/sarucrcv/projects/3dunet/val_pkl_all/BRATS_013.nii.gz_data_f32b0.pkl\n"
     ]
    },
    {
     "name": "stderr",
     "output_type": "stream",
     "text": [
      " 50%|█████     | 42/84 [01:22<01:22,  1.96s/it]"
     ]
    },
    {
     "name": "stdout",
     "output_type": "stream",
     "text": [
      "/home/sarucrcv/projects/3dunet/val_pkl_all/BRATS_409.nii.gz_data_f32b0.pkl\n"
     ]
    },
    {
     "name": "stderr",
     "output_type": "stream",
     "text": [
      " 51%|█████     | 43/84 [01:24<01:20,  1.97s/it]"
     ]
    },
    {
     "name": "stdout",
     "output_type": "stream",
     "text": [
      "/home/sarucrcv/projects/3dunet/val_pkl_all/BRATS_160.nii.gz_data_f32b0.pkl\n"
     ]
    },
    {
     "name": "stderr",
     "output_type": "stream",
     "text": [
      " 52%|█████▏    | 44/84 [01:26<01:19,  1.98s/it]"
     ]
    },
    {
     "name": "stdout",
     "output_type": "stream",
     "text": [
      "/home/sarucrcv/projects/3dunet/val_pkl_all/BRATS_088.nii.gz_data_f32b0.pkl\n"
     ]
    },
    {
     "name": "stderr",
     "output_type": "stream",
     "text": [
      " 54%|█████▎    | 45/84 [01:28<01:16,  1.97s/it]"
     ]
    },
    {
     "name": "stdout",
     "output_type": "stream",
     "text": [
      "/home/sarucrcv/projects/3dunet/val_pkl_all/BRATS_346.nii.gz_data_f32b0.pkl\n"
     ]
    },
    {
     "name": "stderr",
     "output_type": "stream",
     "text": [
      " 55%|█████▍    | 46/84 [01:30<01:14,  1.97s/it]"
     ]
    },
    {
     "name": "stdout",
     "output_type": "stream",
     "text": [
      "/home/sarucrcv/projects/3dunet/val_pkl_all/BRATS_093.nii.gz_data_f32b0.pkl\n"
     ]
    },
    {
     "name": "stderr",
     "output_type": "stream",
     "text": [
      " 56%|█████▌    | 47/84 [01:32<01:13,  1.97s/it]"
     ]
    },
    {
     "name": "stdout",
     "output_type": "stream",
     "text": [
      "/home/sarucrcv/projects/3dunet/val_pkl_all/BRATS_008.nii.gz_data_f32b0.pkl\n"
     ]
    },
    {
     "name": "stderr",
     "output_type": "stream",
     "text": [
      " 57%|█████▋    | 48/84 [01:34<01:10,  1.97s/it]"
     ]
    },
    {
     "name": "stdout",
     "output_type": "stream",
     "text": [
      "/home/sarucrcv/projects/3dunet/val_pkl_all/BRATS_235.nii.gz_data_f32b0.pkl\n"
     ]
    },
    {
     "name": "stderr",
     "output_type": "stream",
     "text": [
      " 58%|█████▊    | 49/84 [01:36<01:09,  1.97s/it]"
     ]
    },
    {
     "name": "stdout",
     "output_type": "stream",
     "text": [
      "/home/sarucrcv/projects/3dunet/val_pkl_all/BRATS_412.nii.gz_data_f32b0.pkl\n"
     ]
    },
    {
     "name": "stderr",
     "output_type": "stream",
     "text": [
      " 60%|█████▉    | 50/84 [01:38<01:07,  1.98s/it]"
     ]
    },
    {
     "name": "stdout",
     "output_type": "stream",
     "text": [
      "/home/sarucrcv/projects/3dunet/val_pkl_all/BRATS_048.nii.gz_data_f32b0.pkl\n",
      "/home/sarucrcv/projects/3dunet/val_pkl_all/BRATS_452.nii.gz_data_f32b0.pkl\n"
     ]
    },
    {
     "name": "stderr",
     "output_type": "stream",
     "text": [
      " 62%|██████▏   | 52/84 [01:42<01:03,  1.97s/it]"
     ]
    },
    {
     "name": "stdout",
     "output_type": "stream",
     "text": [
      "/home/sarucrcv/projects/3dunet/val_pkl_all/BRATS_275.nii.gz_data_f32b0.pkl\n"
     ]
    },
    {
     "name": "stderr",
     "output_type": "stream",
     "text": [
      " 63%|██████▎   | 53/84 [01:44<01:01,  1.98s/it]"
     ]
    },
    {
     "name": "stdout",
     "output_type": "stream",
     "text": [
      "/home/sarucrcv/projects/3dunet/val_pkl_all/BRATS_306.nii.gz_data_f32b0.pkl\n"
     ]
    },
    {
     "name": "stderr",
     "output_type": "stream",
     "text": [
      " 64%|██████▍   | 54/84 [01:46<00:59,  1.98s/it]"
     ]
    },
    {
     "name": "stdout",
     "output_type": "stream",
     "text": [
      "/home/sarucrcv/projects/3dunet/val_pkl_all/BRATS_197.nii.gz_data_f32b0.pkl\n"
     ]
    },
    {
     "name": "stderr",
     "output_type": "stream",
     "text": [
      " 65%|██████▌   | 55/84 [01:48<00:57,  1.97s/it]"
     ]
    },
    {
     "name": "stdout",
     "output_type": "stream",
     "text": [
      "/home/sarucrcv/projects/3dunet/val_pkl_all/BRATS_242.nii.gz_data_f32b0.pkl\n"
     ]
    },
    {
     "name": "stderr",
     "output_type": "stream",
     "text": [
      " 67%|██████▋   | 56/84 [01:49<00:54,  1.96s/it]"
     ]
    },
    {
     "name": "stdout",
     "output_type": "stream",
     "text": [
      "/home/sarucrcv/projects/3dunet/val_pkl_all/BRATS_465.nii.gz_data_f32b0.pkl\n"
     ]
    },
    {
     "name": "stderr",
     "output_type": "stream",
     "text": [
      " 68%|██████▊   | 57/84 [01:51<00:52,  1.95s/it]"
     ]
    },
    {
     "name": "stdout",
     "output_type": "stream",
     "text": [
      "/home/sarucrcv/projects/3dunet/val_pkl_all/BRATS_331.nii.gz_data_f32b0.pkl\n"
     ]
    },
    {
     "name": "stderr",
     "output_type": "stream",
     "text": [
      " 69%|██████▉   | 58/84 [01:53<00:50,  1.95s/it]"
     ]
    },
    {
     "name": "stdout",
     "output_type": "stream",
     "text": [
      "/home/sarucrcv/projects/3dunet/val_pkl_all/BRATS_299.nii.gz_data_f32b0.pkl\n"
     ]
    },
    {
     "name": "stderr",
     "output_type": "stream",
     "text": [
      " 70%|███████   | 59/84 [01:55<00:48,  1.93s/it]"
     ]
    },
    {
     "name": "stdout",
     "output_type": "stream",
     "text": [
      "/home/sarucrcv/projects/3dunet/val_pkl_all/BRATS_371.nii.gz_data_f32b0.pkl\n"
     ]
    },
    {
     "name": "stderr",
     "output_type": "stream",
     "text": [
      " 71%|███████▏  | 60/84 [01:57<00:46,  1.92s/it]"
     ]
    },
    {
     "name": "stdout",
     "output_type": "stream",
     "text": [
      "/home/sarucrcv/projects/3dunet/val_pkl_all/BRATS_425.nii.gz_data_f32b0.pkl\n"
     ]
    },
    {
     "name": "stderr",
     "output_type": "stream",
     "text": [
      " 73%|███████▎  | 61/84 [01:59<00:44,  1.93s/it]"
     ]
    },
    {
     "name": "stdout",
     "output_type": "stream",
     "text": [
      "/home/sarucrcv/projects/3dunet/val_pkl_all/BRATS_202.nii.gz_data_f32b0.pkl\n"
     ]
    },
    {
     "name": "stderr",
     "output_type": "stream",
     "text": [
      " 74%|███████▍  | 62/84 [02:01<00:42,  1.94s/it]"
     ]
    },
    {
     "name": "stdout",
     "output_type": "stream",
     "text": [
      "/home/sarucrcv/projects/3dunet/val_pkl_all/BRATS_024.nii.gz_data_f32b0.pkl\n"
     ]
    },
    {
     "name": "stderr",
     "output_type": "stream",
     "text": [
      " 75%|███████▌  | 63/84 [02:03<00:40,  1.94s/it]"
     ]
    },
    {
     "name": "stdout",
     "output_type": "stream",
     "text": [
      "/home/sarucrcv/projects/3dunet/val_pkl_all/BRATS_219.nii.gz_data_f32b0.pkl\n"
     ]
    },
    {
     "name": "stderr",
     "output_type": "stream",
     "text": [
      " 76%|███████▌  | 64/84 [02:05<00:38,  1.94s/it]"
     ]
    },
    {
     "name": "stdout",
     "output_type": "stream",
     "text": [
      "/home/sarucrcv/projects/3dunet/val_pkl_all/BRATS_282.nii.gz_data_f32b0.pkl\n"
     ]
    },
    {
     "name": "stderr",
     "output_type": "stream",
     "text": [
      " 77%|███████▋  | 65/84 [02:07<00:37,  1.96s/it]"
     ]
    },
    {
     "name": "stdout",
     "output_type": "stream",
     "text": [
      "/home/sarucrcv/projects/3dunet/val_pkl_all/BRATS_157.nii.gz_data_f32b0.pkl\n"
     ]
    },
    {
     "name": "stderr",
     "output_type": "stream",
     "text": [
      " 79%|███████▊  | 66/84 [02:09<00:35,  1.95s/it]"
     ]
    },
    {
     "name": "stdout",
     "output_type": "stream",
     "text": [
      "/home/sarucrcv/projects/3dunet/val_pkl_all/BRATS_117.nii.gz_data_f32b0.pkl\n"
     ]
    },
    {
     "name": "stderr",
     "output_type": "stream",
     "text": [
      " 80%|███████▉  | 67/84 [02:11<00:33,  1.94s/it]"
     ]
    },
    {
     "name": "stdout",
     "output_type": "stream",
     "text": [
      "/home/sarucrcv/projects/3dunet/val_pkl_all/BRATS_064.nii.gz_data_f32b0.pkl\n"
     ]
    },
    {
     "name": "stderr",
     "output_type": "stream",
     "text": [
      " 81%|████████  | 68/84 [02:13<00:30,  1.94s/it]"
     ]
    },
    {
     "name": "stdout",
     "output_type": "stream",
     "text": [
      "/home/sarucrcv/projects/3dunet/val_pkl_all/BRATS_259.nii.gz_data_f32b0.pkl\n"
     ]
    },
    {
     "name": "stderr",
     "output_type": "stream",
     "text": [
      " 82%|████████▏ | 69/84 [02:15<00:29,  1.95s/it]"
     ]
    },
    {
     "name": "stdout",
     "output_type": "stream",
     "text": [
      "/home/sarucrcv/projects/3dunet/val_pkl_all/BRATS_032.nii.gz_data_f32b0.pkl\n"
     ]
    },
    {
     "name": "stderr",
     "output_type": "stream",
     "text": [
      " 83%|████████▎ | 70/84 [02:17<00:27,  1.94s/it]"
     ]
    },
    {
     "name": "stdout",
     "output_type": "stream",
     "text": [
      "/home/sarucrcv/projects/3dunet/val_pkl_all/BRATS_428.nii.gz_data_f32b0.pkl\n"
     ]
    },
    {
     "name": "stderr",
     "output_type": "stream",
     "text": [
      " 85%|████████▍ | 71/84 [02:19<00:25,  1.96s/it]"
     ]
    },
    {
     "name": "stdout",
     "output_type": "stream",
     "text": [
      "/home/sarucrcv/projects/3dunet/val_pkl_all/BRATS_294.nii.gz_data_f32b0.pkl\n"
     ]
    },
    {
     "name": "stderr",
     "output_type": "stream",
     "text": [
      " 86%|████████▌ | 72/84 [02:21<00:23,  1.96s/it]"
     ]
    },
    {
     "name": "stdout",
     "output_type": "stream",
     "text": [
      "/home/sarucrcv/projects/3dunet/val_pkl_all/BRATS_141.nii.gz_data_f32b0.pkl\n"
     ]
    },
    {
     "name": "stderr",
     "output_type": "stream",
     "text": [
      " 87%|████████▋ | 73/84 [02:23<00:21,  1.97s/it]"
     ]
    },
    {
     "name": "stdout",
     "output_type": "stream",
     "text": [
      "/home/sarucrcv/projects/3dunet/val_pkl_all/BRATS_101.nii.gz_data_f32b0.pkl\n"
     ]
    },
    {
     "name": "stderr",
     "output_type": "stream",
     "text": [
      " 88%|████████▊ | 74/84 [02:25<00:19,  1.96s/it]"
     ]
    },
    {
     "name": "stdout",
     "output_type": "stream",
     "text": [
      "/home/sarucrcv/projects/3dunet/val_pkl_all/BRATS_072.nii.gz_data_f32b0.pkl\n"
     ]
    },
    {
     "name": "stderr",
     "output_type": "stream",
     "text": [
      " 89%|████████▉ | 75/84 [02:26<00:17,  1.94s/it]"
     ]
    },
    {
     "name": "stdout",
     "output_type": "stream",
     "text": [
      "/home/sarucrcv/projects/3dunet/val_pkl_all/BRATS_468.nii.gz_data_f32b0.pkl\n"
     ]
    },
    {
     "name": "stderr",
     "output_type": "stream",
     "text": [
      " 90%|█████████ | 76/84 [02:28<00:15,  1.94s/it]"
     ]
    },
    {
     "name": "stdout",
     "output_type": "stream",
     "text": [
      "/home/sarucrcv/projects/3dunet/val_pkl_all/BRATS_069.nii.gz_data_f32b0.pkl\n"
     ]
    },
    {
     "name": "stderr",
     "output_type": "stream",
     "text": [
      " 92%|█████████▏| 77/84 [02:30<00:13,  1.97s/it]"
     ]
    },
    {
     "name": "stdout",
     "output_type": "stream",
     "text": [
      "/home/sarucrcv/projects/3dunet/val_pkl_all/BRATS_181.nii.gz_data_f32b0.pkl\n",
      "/home/sarucrcv/projects/3dunet/val_pkl_all/BRATS_254.nii.gz_data_f32b0.pkl\n"
     ]
    },
    {
     "name": "stderr",
     "output_type": "stream",
     "text": [
      " 94%|█████████▍| 79/84 [02:34<00:09,  1.96s/it]"
     ]
    },
    {
     "name": "stdout",
     "output_type": "stream",
     "text": [
      "/home/sarucrcv/projects/3dunet/val_pkl_all/BRATS_473.nii.gz_data_f32b0.pkl\n"
     ]
    },
    {
     "name": "stderr",
     "output_type": "stream",
     "text": [
      " 95%|█████████▌| 80/84 [02:36<00:07,  1.96s/it]"
     ]
    },
    {
     "name": "stdout",
     "output_type": "stream",
     "text": [
      "/home/sarucrcv/projects/3dunet/val_pkl_all/BRATS_327.nii.gz_data_f32b0.pkl\n"
     ]
    },
    {
     "name": "stderr",
     "output_type": "stream",
     "text": [
      " 96%|█████████▋| 81/84 [02:38<00:05,  1.97s/it]"
     ]
    },
    {
     "name": "stdout",
     "output_type": "stream",
     "text": [
      "/home/sarucrcv/projects/3dunet/val_pkl_all/BRATS_367.nii.gz_data_f32b0.pkl\n",
      "/home/sarucrcv/projects/3dunet/val_pkl_all/BRATS_029.nii.gz_data_f32b0.pkl\n"
     ]
    },
    {
     "name": "stderr",
     "output_type": "stream",
     "text": [
      " 99%|█████████▉| 83/84 [02:42<00:01,  1.93s/it]"
     ]
    },
    {
     "name": "stdout",
     "output_type": "stream",
     "text": [
      "/home/sarucrcv/projects/3dunet/val_pkl_all/BRATS_433.nii.gz_data_f32b0.pkl\n"
     ]
    },
    {
     "name": "stderr",
     "output_type": "stream",
     "text": [
      "100%|██████████| 84/84 [02:44<00:00,  1.96s/it]"
     ]
    },
    {
     "name": "stdout",
     "output_type": "stream",
     "text": [
      "/home/sarucrcv/projects/3dunet/val_pkl_all/BRATS_214.nii.gz_data_f32b0.pkl\n"
     ]
    },
    {
     "name": "stderr",
     "output_type": "stream",
     "text": [
      "\n"
     ]
    }
   ],
   "source": [
    "doit(valid_set)"
   ]
  },
  {
   "cell_type": "code",
   "execution_count": 2,
   "id": "07c423ed-96fb-4b56-85e0-d162bb78e6db",
   "metadata": {},
   "outputs": [],
   "source": [
    "def pkload(fname):\n",
    "    with open(fname, 'rb') as f:\n",
    "        return pickle.load(f)\n",
    "\n",
    "\n",
    "class MaxMinNormalization(object):\n",
    "    def __call__(self, sample):\n",
    "        image = sample['image']\n",
    "        label = sample['label']\n",
    "        Max = np.max(image)\n",
    "        Min = np.min(image)\n",
    "        image = (image - Min) / (Max - Min)\n",
    "\n",
    "        return {'image': image, 'label': label}\n",
    "\n",
    "\n",
    "class Random_Flip(object):\n",
    "    def __call__(self, sample):\n",
    "        image = sample['image']\n",
    "        label = sample['label']\n",
    "        if random.random() < 0.5:\n",
    "            image = np.flip(image, 0)\n",
    "            label = np.flip(label, 0)\n",
    "        if random.random() < 0.5:\n",
    "            image = np.flip(image, 1)\n",
    "            label = np.flip(label, 1)\n",
    "        if random.random() < 0.5:\n",
    "            image = np.flip(image, 2)\n",
    "            label = np.flip(label, 2)\n",
    "\n",
    "        return {'image': image, 'label': label}\n",
    "\n",
    "\n",
    "class Random_Crop(object):\n",
    "    def __call__(self, sample):\n",
    "        image = sample['image']\n",
    "        label = sample['label']\n",
    "        H = random.randint(0, 240 - 128)\n",
    "        W = random.randint(0, 240 - 128)\n",
    "        D = random.randint(0, 160 - 128)\n",
    "\n",
    "        image = image[H: H + 128, W: W + 128, D: D + 128, ...]\n",
    "        label = label[..., H: H + 128, W: W + 128, D: D + 128]\n",
    "\n",
    "        return {'image': image, 'label': label}\n",
    "\n",
    "\n",
    "class Random_intencity_shift(object):\n",
    "    def __call__(self, sample, factor=0.1):\n",
    "        image = sample['image']\n",
    "        label = sample['label']\n",
    "\n",
    "        scale_factor = np.random.uniform(1.0-factor, 1.0+factor, size=[1, image.shape[1], 1, image.shape[-1]])\n",
    "        shift_factor = np.random.uniform(-factor, factor, size=[1, image.shape[1], 1, image.shape[-1]])\n",
    "\n",
    "        image = image*scale_factor+shift_factor\n",
    "\n",
    "        return {'image': image, 'label': label}\n",
    "\n",
    "\n",
    "class Random_rotate(object):\n",
    "    def __call__(self, sample):\n",
    "        image = sample['image']\n",
    "        label = sample['label']\n",
    "\n",
    "        angle = round(np.random.uniform(-10, 10), 2)\n",
    "        image = ndimage.rotate(image, angle, axes=(0, 1), reshape=False)\n",
    "        label = ndimage.rotate(label, angle, axes=(0, 1), reshape=False)\n",
    "\n",
    "        return {'image': image, 'label': label}\n",
    "\n",
    "\n",
    "class Pad(object):\n",
    "    def __call__(self, sample):\n",
    "        image = sample['image']\n",
    "        label = sample['label']\n",
    "\n",
    "        image = np.pad(image, ((0, 0), (0, 0), (0, 5), (0, 0)), mode='constant')\n",
    "        label = np.pad(label, ((0, 0), (0, 0), (0, 5)), mode='constant')\n",
    "        return {'image': image, 'label': label}\n",
    "    #(240,240,155)>(240,240,160)\n",
    "\n",
    "\n",
    "class ToTensor(object):\n",
    "    \"\"\"Convert ndarrays in sample to Tensors.\"\"\"\n",
    "    def __call__(self, sample):\n",
    "        image = sample['image']\n",
    "        image = np.ascontiguousarray(image.transpose(3, 0, 1, 2))\n",
    "        label = sample['label']\n",
    "        label = np.ascontiguousarray(label)\n",
    "\n",
    "        image = torch.from_numpy(image).float()\n",
    "        label = torch.from_numpy(label).long()\n",
    "\n",
    "        return {'image': image, 'label': label}\n",
    "\n",
    "\n",
    "def transform(sample):\n",
    "    trans = transforms.Compose([\n",
    "        Pad(),\n",
    "        # Random_rotate(),  # time-consuming\n",
    "        Random_Crop(),\n",
    "        Random_Flip(),\n",
    "        Random_intencity_shift(),\n",
    "        ToTensor()\n",
    "    ])\n",
    "\n",
    "    return trans(sample)\n",
    "\n",
    "\n",
    "def transform_valid(sample):\n",
    "    trans = transforms.Compose([\n",
    "        Pad(),\n",
    "        # MaxMinNormalization(),\n",
    "        ToTensor()\n",
    "    ])\n",
    "\n",
    "    return trans(sample)\n",
    "\n",
    "\n",
    "class BraTS(Dataset):\n",
    "    def __init__(self, pickle_root, mode='train'):\n",
    "        self.mode = mode\n",
    "        self.paths = [os.path.join(pickle_root) + file for file in os.listdir(pickle_root)]\n",
    "\n",
    "    def __getitem__(self, item):\n",
    "        path = self.paths[item]\n",
    "        if self.mode == 'train':\n",
    "            image, label = pkload(path)\n",
    "            sample = {'image': image, 'label': label}\n",
    "            sample = transform(sample)\n",
    "            return sample['image'], sample['label']\n",
    "        elif self.mode == 'valid':\n",
    "            image, label = pkload(path)\n",
    "            sample = {'image': image, 'label': label}\n",
    "            sample = transform_valid(sample)\n",
    "            return sample['image'], sample['label']\n",
    "        else:\n",
    "            image = pkload(path + 'data_f32b0.pkl')\n",
    "            image = np.pad(image, ((0, 0), (0, 0), (0, 5), (0, 0)), mode='constant')\n",
    "            image = np.ascontiguousarray(image.transpose(3, 0, 1, 2))\n",
    "            image = torch.from_numpy(image).float()\n",
    "            return image\n",
    "\n",
    "    def __len__(self):\n",
    "        return len(self.paths)\n",
    "\n",
    "    def collate(self, batch):\n",
    "        return [torch.cat(v) for v in zip(*batch)]\n",
    "\n",
    "\n",
    "\n"
   ]
  },
  {
   "cell_type": "code",
   "execution_count": 3,
   "id": "a75c95f3-4a44-4f22-99bf-66fc3e0f24ca",
   "metadata": {
    "tags": []
   },
   "outputs": [],
   "source": [
    "train_dataset = BraTS(\"./train_pkl_all/\",'train')\n",
    "#val_dataset = BraTS(\"./val_pkl_all/\",'val')\n",
    "\n"
   ]
  },
  {
   "cell_type": "code",
   "execution_count": 4,
   "id": "07af41e4-d264-4b6c-ada5-312026c6a0eb",
   "metadata": {},
   "outputs": [],
   "source": [
    "train_loader = DataLoader(train_dataset, batch_size = 2, shuffle = True)"
   ]
  },
  {
   "cell_type": "code",
   "execution_count": 5,
   "id": "08f3d10c-b0a6-428e-88da-2084fee15e4b",
   "metadata": {},
   "outputs": [],
   "source": [
    "img, target = next(iter(train_loader))"
   ]
  },
  {
   "cell_type": "code",
   "execution_count": 7,
   "id": "86b8cad0-e537-4870-b103-119c75bfd4ef",
   "metadata": {},
   "outputs": [
    {
     "data": {
      "text/plain": [
       "200"
      ]
     },
     "execution_count": 7,
     "metadata": {},
     "output_type": "execute_result"
    }
   ],
   "source": [
    "len(train_loader)"
   ]
  },
  {
   "cell_type": "code",
   "execution_count": 8,
   "id": "d6ef409f-e0c3-434e-8ad2-7a2217c3efa8",
   "metadata": {},
   "outputs": [
    {
     "name": "stdout",
     "output_type": "stream",
     "text": [
      "Fri Apr  8 14:09:29 2022       \n",
      "+-----------------------------------------------------------------------------+\n",
      "| NVIDIA-SMI 510.47.03    Driver Version: 510.47.03    CUDA Version: 11.6     |\n",
      "|-------------------------------+----------------------+----------------------+\n",
      "| GPU  Name        Persistence-M| Bus-Id        Disp.A | Volatile Uncorr. ECC |\n",
      "| Fan  Temp  Perf  Pwr:Usage/Cap|         Memory-Usage | GPU-Util  Compute M. |\n",
      "|                               |                      |               MIG M. |\n",
      "|===============================+======================+======================|\n",
      "|   0  Tesla V100-PCIE...  On   | 00000000:5E:00.0 Off |                    0 |\n",
      "| N/A   26C    P0    25W / 250W |      4MiB / 32768MiB |      0%      Default |\n",
      "|                               |                      |                  N/A |\n",
      "+-------------------------------+----------------------+----------------------+\n",
      "|   1  Tesla V100-PCIE...  On   | 00000000:86:00.0 Off |                    0 |\n",
      "| N/A   27C    P0    24W / 250W |      4MiB / 32768MiB |      0%      Default |\n",
      "|                               |                      |                  N/A |\n",
      "+-------------------------------+----------------------+----------------------+\n",
      "                                                                               \n",
      "+-----------------------------------------------------------------------------+\n",
      "| Processes:                                                                  |\n",
      "|  GPU   GI   CI        PID   Type   Process name                  GPU Memory |\n",
      "|        ID   ID                                                   Usage      |\n",
      "|=============================================================================|\n",
      "|  No running processes found                                                 |\n",
      "+-----------------------------------------------------------------------------+\n"
     ]
    }
   ],
   "source": [
    "!nvidia-smi"
   ]
  },
  {
   "cell_type": "code",
   "execution_count": 11,
   "id": "68aba7ff-ab95-4bac-a32f-09e208165e2d",
   "metadata": {},
   "outputs": [
    {
     "data": {
      "text/plain": [
       "torch.Size([2, 4, 128, 128, 128])"
      ]
     },
     "execution_count": 11,
     "metadata": {},
     "output_type": "execute_result"
    }
   ],
   "source": [
    "img.size()"
   ]
  },
  {
   "cell_type": "markdown",
   "id": "d646226e-38f3-4693-8bc0-c0608655669e",
   "metadata": {
    "jupyter": {
     "outputs_hidden": true
    },
    "tags": []
   },
   "source": [
    "figure = plt.figure(figsize=(8, 8))\n",
    "cols, rows = 2, 8\n",
    "for i in range(0 , cols * rows):\n",
    "    sample_idx = i\n",
    "    img, label = training_data[sample_idx]\n",
    "    img = img[1,0,:,:,65].detach().cpu()\n",
    "    label = label[1,:,:,65]\n",
    "    figure.add_subplot(rows, cols, i)\n",
    "    plt.title(labels_map[label])\n",
    "    plt.axis(\"off\")\n",
    "    plt.imshow(img.squeeze(), cmap=\"gray\")\n",
    "plt.show()"
   ]
  },
  {
   "cell_type": "markdown",
   "id": "1381f636-adbb-4f9d-a3be-3d7a9215be53",
   "metadata": {},
   "source": [
    "#### "
   ]
  },
  {
   "cell_type": "code",
   "execution_count": 10,
   "id": "4aaaece0-3c4b-42fb-9950-c9787fe4f04b",
   "metadata": {
    "tags": []
   },
   "outputs": [
    {
     "data": {
      "text/plain": [
       "<matplotlib.image.AxesImage at 0x145abcf89100>"
      ]
     },
     "execution_count": 10,
     "metadata": {},
     "output_type": "execute_result"
    },
    {
     "data": {
      "image/png": "[encoded data removed]",
      "text/plain": [
       "<Figure size 432x288 with 2 Axes>"
      ]
     },
     "metadata": {
      "needs_background": "light"
     },
     "output_type": "display_data"
    }
   ],
   "source": [
    "img_sample = img[1,0,:,:,65].detach().cpu()\n",
    "target_sample = target[1,:,:,65]\n",
    "plt.subplot(1,2,1)\n",
    "plt.imshow(img_sample,cmap='gray')\n",
    "plt.subplot(1,2,2)\n",
    "plt.imshow(target_sample,cmap='gray')"
   ]
  },
  {
   "cell_type": "code",
   "execution_count": 11,
   "id": "2deeb8c7-0157-412e-a4dc-11ac4567ef7a",
   "metadata": {},
   "outputs": [
    {
     "data": {
      "text/plain": [
       "<matplotlib.image.AxesImage at 0x145abc193490>"
      ]
     },
     "execution_count": 11,
     "metadata": {},
     "output_type": "execute_result"
    },
    {
     "data": {
      "image/png": "[encoded data removed]",
      "text/plain": [
       "<Figure size 432x288 with 2 Axes>"
      ]
     },
     "metadata": {
      "needs_background": "light"
     },
     "output_type": "display_data"
    }
   ],
   "source": [
    "img_sample = img[0,0,:,:,65].detach().cpu()\n",
    "target_sample = target[0,:,:,65]\n",
    "plt.subplot(1,2,1)\n",
    "plt.imshow(img_sample,cmap='gray')\n",
    "plt.subplot(1,2,2)\n",
    "plt.imshow(target_sample,cmap='gray')"
   ]
  },
  {
   "cell_type": "code",
   "execution_count": 26,
   "id": "da1c7271-6e92-494d-880a-6b3f846a79fd",
   "metadata": {},
   "outputs": [
    {
     "data": {
      "text/plain": [
       "<matplotlib.image.AxesImage at 0x149d039bb4f0>"
      ]
     },
     "execution_count": 26,
     "metadata": {},
     "output_type": "execute_result"
    },
    {
     "data": {
      "image/png": "[encoded data removed]",
      "text/plain": [
       "<Figure size 432x288 with 2 Axes>"
      ]
     },
     "metadata": {
      "needs_background": "light"
     },
     "output_type": "display_data"
    }
   ],
   "source": [
    "img_sample = img[1,2,:,:,65].detach().cpu()\n",
    "target_sample = target[1,:,:,65]\n",
    "plt.subplot(1,2,1)\n",
    "plt.imshow(img_sample,cmap='gray')\n",
    "plt.subplot(1,2,2)\n",
    "plt.imshow(target_sample,cmap='gray')"
   ]
  },
  {
   "cell_type": "markdown",
   "id": "2050eba1-c566-46cd-8560-e63596d23960",
   "metadata": {},
   "source": [
    "3D Unet Model"
   ]
  },
  {
   "cell_type": "code",
   "execution_count": 6,
   "id": "7d946508-6e8f-47cf-bfed-cb1d78d00389",
   "metadata": {},
   "outputs": [],
   "source": [
    "import torch.nn.functional as F\n",
    "import torch.nn as nn"
   ]
  },
  {
   "cell_type": "code",
   "execution_count": 7,
   "id": "3de7a2cd-b020-4ef4-bd15-dff8a6824cfd",
   "metadata": {},
   "outputs": [],
   "source": [
    "def initial_layer(in_dim, out_dim_pre, out_dim):\n",
    "    return nn.Sequential(nn.Conv3d(in_dim, out_dim_pre, kernel_size=3, stride=1, padding=1),\n",
    "                         nn.BatchNorm3d(out_dim_pre), nn.ReLU(inplace=True),\n",
    "                        nn.Conv3d(out_dim_pre, out_dim, kernel_size=3, stride=1, padding=1),\n",
    "                         nn.BatchNorm3d(out_dim), nn.ReLU(inplace=True))\n",
    "                         \n",
    "def conv_block_layer_en(in_dim, out_dim):\n",
    "    return nn.Sequential(nn.Conv3d(in_dim, in_dim, kernel_size=3, stride=1, padding=1), \n",
    "                         nn.BatchNorm3d(in_dim), nn.ReLU(inplace=True),\n",
    "                        nn.Conv3d(in_dim, out_dim, kernel_size=3, stride=1, padding=1),\n",
    "                         nn.BatchNorm3d(out_dim), nn.ReLU(inplace=True))\n",
    "\n",
    "def max_pool_3d():\n",
    "    return nn.MaxPool3d(kernel_size=2, stride=2, padding=0)\n",
    "\n",
    "def conv_trans_block_3d(in_dim, out_dim):\n",
    "    return nn.Sequential(\n",
    "        nn.ConvTranspose3d(in_dim, out_dim, kernel_size=3, stride=2, padding=1, output_padding=1),\n",
    "        nn.BatchNorm3d(out_dim),\n",
    "        nn.ReLU(inplace=True))\n",
    "    \n"
   ]
  },
  {
   "cell_type": "code",
   "execution_count": 8,
   "id": "eb5aefa3-5de1-414e-bbcb-1fee171b3fde",
   "metadata": {},
   "outputs": [],
   "source": [
    "class Unet3D(nn.Module):\n",
    "    def __init__(self, in_dim = 4, out_dim = 4, num_filters = 64):\n",
    "        super(Unet3D, self).__init__()\n",
    "        self.in_dim = in_dim\n",
    "        self.num_filters = num_filters\n",
    "        self.out_dim = out_dim\n",
    "        \n",
    "        self.conv1 = initial_layer(self.in_dim, 32, self.num_filters)\n",
    "        self.pool1 = max_pool_3d()\n",
    "        \n",
    "        self.conv2 = conv_block_layer_en(self.num_filters, self.num_filters*2)\n",
    "        self.pool2 = max_pool_3d()\n",
    "        \n",
    "        self.conv3 = conv_block_layer_en(self.num_filters*2, self.num_filters*4)\n",
    "        self.pool3 = max_pool_3d()\n",
    "        \n",
    "        \n",
    "              \n",
    "        self.bridge = conv_block_layer_en(self.num_filters*4 , self.num_filters*8)\n",
    "        \n",
    "        \n",
    "        self.upconv2 = conv_trans_block_3d(self.num_filters*8, self.num_filters*8)#512\n",
    "        self.dconv3= conv_block_layer_en(self.num_filters* 12, self.num_filters*4)#512 + 256 | 256\n",
    "        \n",
    "        self.upconv3 = conv_trans_block_3d(self.num_filters*4, self.num_filters*4)#256\n",
    "        self.dconv2 = conv_block_layer_en(self.num_filters* 6, self.num_filters*2)#256 + 128 | 128\n",
    "        \n",
    "        self.upconv4 = conv_trans_block_3d(self.num_filters*2, self.num_filters*2)#128\n",
    "        self.dconv1 = conv_block_layer_en(self.num_filters*3, self.num_filters*1)#128 + 64 | 64\n",
    "        \n",
    "        self.final_conv = nn.Sequential(nn.Conv3d(self.num_filters, self.out_dim, kernel_size=3, padding=1))\n",
    "                                        \n",
    "\n",
    "    def forward(self,x):\n",
    "\n",
    "        conv1 = self.conv1(x)\n",
    "        pool1 = self.pool1(conv1)\n",
    "        conv2 = self.conv2(pool1)\n",
    "        pool2 = self.pool2(conv2)\n",
    "        conv3 = self.conv3(pool2)\n",
    "        pool3 = self.pool3(conv3)\n",
    "        bridge = self.bridge(pool3)\n",
    "                                        \n",
    "        \n",
    "       \n",
    "        trans_2 = self.upconv2(bridge)\n",
    "        concat_2 = torch.cat([trans_2, conv3], dim=1)\n",
    "        dconv3 = self.dconv3(concat_2)\n",
    "        \n",
    "        trans_3 = self.upconv3(dconv3)\n",
    "        concat_3 = torch.cat([trans_3, conv2], dim=1)\n",
    "        dconv2 = self.dconv2(concat_3)\n",
    "        \n",
    "        trans_4 = self.upconv4(dconv2)\n",
    "        concat_2 = torch.cat([trans_4, conv1], dim=1)\n",
    "        dconv1 = self.dconv1(concat_2)\n",
    "        \n",
    "        \n",
    "        x = self.final_conv(dconv1)\n",
    "        x = F.softmax(x, dim=1)\n",
    "        return x\n",
    "        \n",
    "        \n",
    "        \n",
    "                \n",
    "        "
   ]
  },
  {
   "cell_type": "code",
   "execution_count": 120,
   "id": "039f0d45-d82e-4008-a04b-80ab2e97b385",
   "metadata": {},
   "outputs": [],
   "source": [
    "# class Unet3D(nn.Module):\n",
    "#     def __init__(self, in_dim = 4, out_dim = 4, num_filters = 64):\n",
    "#         super(Unet3D, self).__init__()\n",
    "#         self.in_dim = in_dim\n",
    "#         self.num_filters = num_filters\n",
    "#         self.out_dim = out_dim\n",
    "        \n",
    "#         self.conv1 = initial_layer(self.in_dim, 32, self.num_filters)\n",
    "#         self.pool1 = max_pool_3d()\n",
    "        \n",
    "#         self.conv2 = conv_block_layer_en(self.num_filters, self.num_filters*2)\n",
    "#         self.pool2 = max_pool_3d()\n",
    "        \n",
    "#         self.conv3 = conv_block_layer_en(self.num_filters*2, self.num_filters*4)\n",
    "#         self.pool3 = max_pool_3d()\n",
    "        \n",
    "#         self.conv4 = conv_block_layer_en(self.num_filters*4, self.num_filters*8)\n",
    "#         self.pool4 = max_pool_3d()\n",
    "        \n",
    "              \n",
    "#         self.bridge = conv_block_layer_en(self.num_filters*8 , self.num_filters*16)\n",
    "        \n",
    "        \n",
    "#         self.upconv1 = conv_trans_block_3d(self.num_filters*16, self.num_filters*16)#1024\n",
    "#         self.dconv4 = conv_block_layer_en(self.num_filters* 24, self.num_filters*8)#1024 + 512 | 512\n",
    "        \n",
    "#         self.upconv2 = conv_trans_block_3d(self.num_filters*8, self.num_filters*8)#512\n",
    "#         self.dconv3= conv_block_layer_en(self.num_filters* 12, self.num_filters*4)#512 + 256 | 256\n",
    "        \n",
    "#         self.upconv3 = conv_trans_block_3d(self.num_filters*4, self.num_filters*4)#256\n",
    "#         self.dconv2 = conv_block_layer_en(self.num_filters* 6, self.num_filters*2)#256 + 128 | 128\n",
    "        \n",
    "#         self.upconv4 = conv_trans_block_3d(self.num_filters*2, self.num_filters*2)#128\n",
    "#         self.dconv1 = conv_block_layer_en(self.num_filters*3, self.num_filters*1)#128 + 64 | 64\n",
    "        \n",
    "#         self.final_conv = nn.Sequential(nn.Conv3d(self.num_filters, self.out_dim, kernel_size=3, padding=1))\n",
    "                                        \n",
    "\n",
    "#     def forward(self,x):\n",
    "#         import pdb\n",
    "#         pdb.set_trace()\n",
    "#         conv1 = self.conv1(x)\n",
    "#         pool1 = self.pool1(conv1)\n",
    "#         conv2 = self.conv2(pool1)\n",
    "#         pool2 = self.pool2(conv2)\n",
    "#         conv3 = self.conv3(pool2)\n",
    "#         pool3 = self.pool3(conv3)\n",
    "#         conv4 = self.conv4(pool3)\n",
    "#         pool4 = self.pool4(conv4)\n",
    "#         bridge = self.bridge(pool4)\n",
    "                                        \n",
    "#         trans_1 = self.upconv1(bridge)\n",
    "#         concat_1 = torch.cat([trans_1, conv4], dim=1)\n",
    "#         dconv4 = self.dconv4(concat_1)\n",
    "       \n",
    "#         trans_2 = self.upconv2(dconv4)\n",
    "#         concat_2 = torch.cat([trans_2, conv3], dim=1)\n",
    "#         dconv3 = self.dconv3(concat_2)\n",
    "        \n",
    "#         trans_3 = self.upconv3(dconv3)\n",
    "#         concat_3 = torch.cat([trans_3, conv2], dim=1)\n",
    "#         dconv2 = self.dconv2(concat_3)\n",
    "        \n",
    "#         trans_4 = self.upconv4(dconv2)\n",
    "#         concat_2 = torch.cat([trans_4, conv1], dim=1)\n",
    "#         dconv1 = self.dconv1(concat_2)\n",
    "        \n",
    "        \n",
    "#         x = self.final_conv(dconv1)\n",
    "#         return x\n",
    "        \n",
    "        \n",
    "        \n",
    "                \n",
    "        "
   ]
  },
  {
   "cell_type": "code",
   "execution_count": 21,
   "id": "acea7649-830d-4ffa-9513-22773f787aab",
   "metadata": {},
   "outputs": [
    {
     "ename": "RuntimeError",
     "evalue": "[enforce fail at alloc_cpu.cpp:73] . DefaultCPUAllocator: can't allocate memory: you tried to allocate 14155776 bytes. Error code 12 (Cannot allocate memory)",
     "output_type": "error",
     "traceback": [
      "\u001b[0;31m---------------------------------------------------------------------------\u001b[0m",
      "\u001b[0;31mRuntimeError\u001b[0m                              Traceback (most recent call last)",
      "Input \u001b[0;32mIn [21]\u001b[0m, in \u001b[0;36m<cell line: 1>\u001b[0;34m()\u001b[0m\n\u001b[0;32m----> 1\u001b[0m model \u001b[38;5;241m=\u001b[39m \u001b[43mUnet3D\u001b[49m\u001b[43m(\u001b[49m\u001b[38;5;241;43m4\u001b[39;49m\u001b[43m,\u001b[49m\u001b[38;5;241;43m4\u001b[39;49m\u001b[43m,\u001b[49m\u001b[38;5;241;43m64\u001b[39;49m\u001b[43m)\u001b[49m\u001b[38;5;241m.\u001b[39mcuda()\n",
      "Input \u001b[0;32mIn [8]\u001b[0m, in \u001b[0;36mUnet3D.__init__\u001b[0;34m(self, in_dim, out_dim, num_filters)\u001b[0m\n\u001b[1;32m     14\u001b[0m \u001b[38;5;28mself\u001b[39m\u001b[38;5;241m.\u001b[39mconv3 \u001b[38;5;241m=\u001b[39m conv_block_layer_en(\u001b[38;5;28mself\u001b[39m\u001b[38;5;241m.\u001b[39mnum_filters\u001b[38;5;241m*\u001b[39m\u001b[38;5;241m2\u001b[39m, \u001b[38;5;28mself\u001b[39m\u001b[38;5;241m.\u001b[39mnum_filters\u001b[38;5;241m*\u001b[39m\u001b[38;5;241m4\u001b[39m)\n\u001b[1;32m     15\u001b[0m \u001b[38;5;28mself\u001b[39m\u001b[38;5;241m.\u001b[39mpool3 \u001b[38;5;241m=\u001b[39m max_pool_3d()\n\u001b[0;32m---> 19\u001b[0m \u001b[38;5;28mself\u001b[39m\u001b[38;5;241m.\u001b[39mbridge \u001b[38;5;241m=\u001b[39m \u001b[43mconv_block_layer_en\u001b[49m\u001b[43m(\u001b[49m\u001b[38;5;28;43mself\u001b[39;49m\u001b[38;5;241;43m.\u001b[39;49m\u001b[43mnum_filters\u001b[49m\u001b[38;5;241;43m*\u001b[39;49m\u001b[38;5;241;43m4\u001b[39;49m\u001b[43m \u001b[49m\u001b[43m,\u001b[49m\u001b[43m \u001b[49m\u001b[38;5;28;43mself\u001b[39;49m\u001b[38;5;241;43m.\u001b[39;49m\u001b[43mnum_filters\u001b[49m\u001b[38;5;241;43m*\u001b[39;49m\u001b[38;5;241;43m8\u001b[39;49m\u001b[43m)\u001b[49m\n\u001b[1;32m     22\u001b[0m \u001b[38;5;28mself\u001b[39m\u001b[38;5;241m.\u001b[39mupconv2 \u001b[38;5;241m=\u001b[39m conv_trans_block_3d(\u001b[38;5;28mself\u001b[39m\u001b[38;5;241m.\u001b[39mnum_filters\u001b[38;5;241m*\u001b[39m\u001b[38;5;241m8\u001b[39m, \u001b[38;5;28mself\u001b[39m\u001b[38;5;241m.\u001b[39mnum_filters\u001b[38;5;241m*\u001b[39m\u001b[38;5;241m8\u001b[39m)\u001b[38;5;66;03m#512\u001b[39;00m\n\u001b[1;32m     23\u001b[0m \u001b[38;5;28mself\u001b[39m\u001b[38;5;241m.\u001b[39mdconv3\u001b[38;5;241m=\u001b[39m conv_block_layer_en(\u001b[38;5;28mself\u001b[39m\u001b[38;5;241m.\u001b[39mnum_filters\u001b[38;5;241m*\u001b[39m \u001b[38;5;241m12\u001b[39m, \u001b[38;5;28mself\u001b[39m\u001b[38;5;241m.\u001b[39mnum_filters\u001b[38;5;241m*\u001b[39m\u001b[38;5;241m4\u001b[39m)\u001b[38;5;66;03m#512 + 256 | 256\u001b[39;00m\n",
      "Input \u001b[0;32mIn [7]\u001b[0m, in \u001b[0;36mconv_block_layer_en\u001b[0;34m(in_dim, out_dim)\u001b[0m\n\u001b[1;32m      7\u001b[0m \u001b[38;5;28;01mdef\u001b[39;00m \u001b[38;5;21mconv_block_layer_en\u001b[39m(in_dim, out_dim):\n\u001b[1;32m      8\u001b[0m     \u001b[38;5;28;01mreturn\u001b[39;00m nn\u001b[38;5;241m.\u001b[39mSequential(nn\u001b[38;5;241m.\u001b[39mConv3d(in_dim, in_dim, kernel_size\u001b[38;5;241m=\u001b[39m\u001b[38;5;241m3\u001b[39m, stride\u001b[38;5;241m=\u001b[39m\u001b[38;5;241m1\u001b[39m, padding\u001b[38;5;241m=\u001b[39m\u001b[38;5;241m1\u001b[39m), \n\u001b[1;32m      9\u001b[0m                          nn\u001b[38;5;241m.\u001b[39mBatchNorm3d(in_dim), nn\u001b[38;5;241m.\u001b[39mReLU(inplace\u001b[38;5;241m=\u001b[39m\u001b[38;5;28;01mTrue\u001b[39;00m),\n\u001b[0;32m---> 10\u001b[0m                         \u001b[43mnn\u001b[49m\u001b[38;5;241;43m.\u001b[39;49m\u001b[43mConv3d\u001b[49m\u001b[43m(\u001b[49m\u001b[43min_dim\u001b[49m\u001b[43m,\u001b[49m\u001b[43m \u001b[49m\u001b[43mout_dim\u001b[49m\u001b[43m,\u001b[49m\u001b[43m \u001b[49m\u001b[43mkernel_size\u001b[49m\u001b[38;5;241;43m=\u001b[39;49m\u001b[38;5;241;43m3\u001b[39;49m\u001b[43m,\u001b[49m\u001b[43m \u001b[49m\u001b[43mstride\u001b[49m\u001b[38;5;241;43m=\u001b[39;49m\u001b[38;5;241;43m1\u001b[39;49m\u001b[43m,\u001b[49m\u001b[43m \u001b[49m\u001b[43mpadding\u001b[49m\u001b[38;5;241;43m=\u001b[39;49m\u001b[38;5;241;43m1\u001b[39;49m\u001b[43m)\u001b[49m,\n\u001b[1;32m     11\u001b[0m                          nn\u001b[38;5;241m.\u001b[39mBatchNorm3d(out_dim), nn\u001b[38;5;241m.\u001b[39mReLU(inplace\u001b[38;5;241m=\u001b[39m\u001b[38;5;28;01mTrue\u001b[39;00m))\n",
      "File \u001b[0;32m~/.conda/envs/pytorch/lib/python3.9/site-packages/torch/nn/modules/conv.py:570\u001b[0m, in \u001b[0;36mConv3d.__init__\u001b[0;34m(self, in_channels, out_channels, kernel_size, stride, padding, dilation, groups, bias, padding_mode, device, dtype)\u001b[0m\n\u001b[1;32m    568\u001b[0m padding_ \u001b[38;5;241m=\u001b[39m padding \u001b[38;5;28;01mif\u001b[39;00m \u001b[38;5;28misinstance\u001b[39m(padding, \u001b[38;5;28mstr\u001b[39m) \u001b[38;5;28;01melse\u001b[39;00m _triple(padding)\n\u001b[1;32m    569\u001b[0m dilation_ \u001b[38;5;241m=\u001b[39m _triple(dilation)\n\u001b[0;32m--> 570\u001b[0m \u001b[38;5;28;43msuper\u001b[39;49m\u001b[43m(\u001b[49m\u001b[43mConv3d\u001b[49m\u001b[43m,\u001b[49m\u001b[43m \u001b[49m\u001b[38;5;28;43mself\u001b[39;49m\u001b[43m)\u001b[49m\u001b[38;5;241;43m.\u001b[39;49m\u001b[38;5;21;43m__init__\u001b[39;49m\u001b[43m(\u001b[49m\n\u001b[1;32m    571\u001b[0m \u001b[43m    \u001b[49m\u001b[43min_channels\u001b[49m\u001b[43m,\u001b[49m\u001b[43m \u001b[49m\u001b[43mout_channels\u001b[49m\u001b[43m,\u001b[49m\u001b[43m \u001b[49m\u001b[43mkernel_size_\u001b[49m\u001b[43m,\u001b[49m\u001b[43m \u001b[49m\u001b[43mstride_\u001b[49m\u001b[43m,\u001b[49m\u001b[43m \u001b[49m\u001b[43mpadding_\u001b[49m\u001b[43m,\u001b[49m\u001b[43m \u001b[49m\u001b[43mdilation_\u001b[49m\u001b[43m,\u001b[49m\n\u001b[1;32m    572\u001b[0m \u001b[43m    \u001b[49m\u001b[38;5;28;43;01mFalse\u001b[39;49;00m\u001b[43m,\u001b[49m\u001b[43m \u001b[49m\u001b[43m_triple\u001b[49m\u001b[43m(\u001b[49m\u001b[38;5;241;43m0\u001b[39;49m\u001b[43m)\u001b[49m\u001b[43m,\u001b[49m\u001b[43m \u001b[49m\u001b[43mgroups\u001b[49m\u001b[43m,\u001b[49m\u001b[43m \u001b[49m\u001b[43mbias\u001b[49m\u001b[43m,\u001b[49m\u001b[43m \u001b[49m\u001b[43mpadding_mode\u001b[49m\u001b[43m,\u001b[49m\u001b[43m \u001b[49m\u001b[38;5;241;43m*\u001b[39;49m\u001b[38;5;241;43m*\u001b[39;49m\u001b[43mfactory_kwargs\u001b[49m\u001b[43m)\u001b[49m\n",
      "File \u001b[0;32m~/.conda/envs/pytorch/lib/python3.9/site-packages/torch/nn/modules/conv.py:131\u001b[0m, in \u001b[0;36m_ConvNd.__init__\u001b[0;34m(self, in_channels, out_channels, kernel_size, stride, padding, dilation, transposed, output_padding, groups, bias, padding_mode, device, dtype)\u001b[0m\n\u001b[1;32m    128\u001b[0m     \u001b[38;5;28mself\u001b[39m\u001b[38;5;241m.\u001b[39mweight \u001b[38;5;241m=\u001b[39m Parameter(torch\u001b[38;5;241m.\u001b[39mempty(\n\u001b[1;32m    129\u001b[0m         (in_channels, out_channels \u001b[38;5;241m/\u001b[39m\u001b[38;5;241m/\u001b[39m groups, \u001b[38;5;241m*\u001b[39mkernel_size), \u001b[38;5;241m*\u001b[39m\u001b[38;5;241m*\u001b[39mfactory_kwargs))\n\u001b[1;32m    130\u001b[0m \u001b[38;5;28;01melse\u001b[39;00m:\n\u001b[0;32m--> 131\u001b[0m     \u001b[38;5;28mself\u001b[39m\u001b[38;5;241m.\u001b[39mweight \u001b[38;5;241m=\u001b[39m Parameter(\u001b[43mtorch\u001b[49m\u001b[38;5;241;43m.\u001b[39;49m\u001b[43mempty\u001b[49m\u001b[43m(\u001b[49m\n\u001b[1;32m    132\u001b[0m \u001b[43m        \u001b[49m\u001b[43m(\u001b[49m\u001b[43mout_channels\u001b[49m\u001b[43m,\u001b[49m\u001b[43m \u001b[49m\u001b[43min_channels\u001b[49m\u001b[43m \u001b[49m\u001b[38;5;241;43m/\u001b[39;49m\u001b[38;5;241;43m/\u001b[39;49m\u001b[43m \u001b[49m\u001b[43mgroups\u001b[49m\u001b[43m,\u001b[49m\u001b[43m \u001b[49m\u001b[38;5;241;43m*\u001b[39;49m\u001b[43mkernel_size\u001b[49m\u001b[43m)\u001b[49m\u001b[43m,\u001b[49m\u001b[43m \u001b[49m\u001b[38;5;241;43m*\u001b[39;49m\u001b[38;5;241;43m*\u001b[39;49m\u001b[43mfactory_kwargs\u001b[49m\u001b[43m)\u001b[49m)\n\u001b[1;32m    133\u001b[0m \u001b[38;5;28;01mif\u001b[39;00m bias:\n\u001b[1;32m    134\u001b[0m     \u001b[38;5;28mself\u001b[39m\u001b[38;5;241m.\u001b[39mbias \u001b[38;5;241m=\u001b[39m Parameter(torch\u001b[38;5;241m.\u001b[39mempty(out_channels, \u001b[38;5;241m*\u001b[39m\u001b[38;5;241m*\u001b[39mfactory_kwargs))\n",
      "\u001b[0;31mRuntimeError\u001b[0m: [enforce fail at alloc_cpu.cpp:73] . DefaultCPUAllocator: can't allocate memory: you tried to allocate 14155776 bytes. Error code 12 (Cannot allocate memory)"
     ]
    }
   ],
   "source": [
    "model = Unet3D(4,4,64).cuda()"
   ]
  },
  {
   "cell_type": "code",
   "execution_count": 10,
   "id": "859a9a05-ce2f-4042-a4e0-b6aa3163abd8",
   "metadata": {},
   "outputs": [],
   "source": [
    "from torchsummary import summary"
   ]
  },
  {
   "cell_type": "code",
   "execution_count": 18,
   "id": "4b5080ed-f976-4de5-9d65-5adfaf76b28f",
   "metadata": {},
   "outputs": [
    {
     "ename": "RuntimeError",
     "evalue": "CUDA out of memory. Tried to allocate 32.00 MiB (GPU 0; 31.75 GiB total capacity; 19.89 GiB already allocated; 10.52 GiB free; 20.00 GiB reserved in total by PyTorch) If reserved memory is >> allocated memory try setting max_split_size_mb to avoid fragmentation.  See documentation for Memory Management and PYTORCH_CUDA_ALLOC_CONF",
     "output_type": "error",
     "traceback": [
      "\u001b[0;31m---------------------------------------------------------------------------\u001b[0m",
      "\u001b[0;31mRuntimeError\u001b[0m                              Traceback (most recent call last)",
      "Input \u001b[0;32mIn [18]\u001b[0m, in \u001b[0;36m<cell line: 1>\u001b[0;34m()\u001b[0m\n\u001b[0;32m----> 1\u001b[0m \u001b[43msummary\u001b[49m\u001b[43m(\u001b[49m\u001b[43mmodel\u001b[49m\u001b[43m,\u001b[49m\u001b[43m(\u001b[49m\u001b[38;5;241;43m4\u001b[39;49m\u001b[43m,\u001b[49m\u001b[38;5;241;43m64\u001b[39;49m\u001b[43m,\u001b[49m\u001b[38;5;241;43m64\u001b[39;49m\u001b[43m,\u001b[49m\u001b[38;5;241;43m64\u001b[39;49m\u001b[43m)\u001b[49m\u001b[43m)\u001b[49m\n",
      "File \u001b[0;32m~/.conda/envs/pytorch/lib/python3.9/site-packages/torchsummary/torchsummary.py:72\u001b[0m, in \u001b[0;36msummary\u001b[0;34m(model, input_size, batch_size, device)\u001b[0m\n\u001b[1;32m     68\u001b[0m model\u001b[38;5;241m.\u001b[39mapply(register_hook)\n\u001b[1;32m     70\u001b[0m \u001b[38;5;66;03m# make a forward pass\u001b[39;00m\n\u001b[1;32m     71\u001b[0m \u001b[38;5;66;03m# print(x.shape)\u001b[39;00m\n\u001b[0;32m---> 72\u001b[0m \u001b[43mmodel\u001b[49m\u001b[43m(\u001b[49m\u001b[38;5;241;43m*\u001b[39;49m\u001b[43mx\u001b[49m\u001b[43m)\u001b[49m\n\u001b[1;32m     74\u001b[0m \u001b[38;5;66;03m# remove these hooks\u001b[39;00m\n\u001b[1;32m     75\u001b[0m \u001b[38;5;28;01mfor\u001b[39;00m h \u001b[38;5;129;01min\u001b[39;00m hooks:\n",
      "File \u001b[0;32m~/.conda/envs/pytorch/lib/python3.9/site-packages/torch/nn/modules/module.py:1110\u001b[0m, in \u001b[0;36mModule._call_impl\u001b[0;34m(self, *input, **kwargs)\u001b[0m\n\u001b[1;32m   1106\u001b[0m \u001b[38;5;66;03m# If we don't have any hooks, we want to skip the rest of the logic in\u001b[39;00m\n\u001b[1;32m   1107\u001b[0m \u001b[38;5;66;03m# this function, and just call forward.\u001b[39;00m\n\u001b[1;32m   1108\u001b[0m \u001b[38;5;28;01mif\u001b[39;00m \u001b[38;5;129;01mnot\u001b[39;00m (\u001b[38;5;28mself\u001b[39m\u001b[38;5;241m.\u001b[39m_backward_hooks \u001b[38;5;129;01mor\u001b[39;00m \u001b[38;5;28mself\u001b[39m\u001b[38;5;241m.\u001b[39m_forward_hooks \u001b[38;5;129;01mor\u001b[39;00m \u001b[38;5;28mself\u001b[39m\u001b[38;5;241m.\u001b[39m_forward_pre_hooks \u001b[38;5;129;01mor\u001b[39;00m _global_backward_hooks\n\u001b[1;32m   1109\u001b[0m         \u001b[38;5;129;01mor\u001b[39;00m _global_forward_hooks \u001b[38;5;129;01mor\u001b[39;00m _global_forward_pre_hooks):\n\u001b[0;32m-> 1110\u001b[0m     \u001b[38;5;28;01mreturn\u001b[39;00m \u001b[43mforward_call\u001b[49m\u001b[43m(\u001b[49m\u001b[38;5;241;43m*\u001b[39;49m\u001b[38;5;28;43minput\u001b[39;49m\u001b[43m,\u001b[49m\u001b[43m \u001b[49m\u001b[38;5;241;43m*\u001b[39;49m\u001b[38;5;241;43m*\u001b[39;49m\u001b[43mkwargs\u001b[49m\u001b[43m)\u001b[49m\n\u001b[1;32m   1111\u001b[0m \u001b[38;5;66;03m# Do not call functions when jit is used\u001b[39;00m\n\u001b[1;32m   1112\u001b[0m full_backward_hooks, non_full_backward_hooks \u001b[38;5;241m=\u001b[39m [], []\n",
      "Input \u001b[0;32mIn [8]\u001b[0m, in \u001b[0;36mUnet3D.forward\u001b[0;34m(self, x)\u001b[0m\n\u001b[1;32m     34\u001b[0m \u001b[38;5;28;01mdef\u001b[39;00m \u001b[38;5;21mforward\u001b[39m(\u001b[38;5;28mself\u001b[39m,x):\n\u001b[1;32m     36\u001b[0m     conv1 \u001b[38;5;241m=\u001b[39m \u001b[38;5;28mself\u001b[39m\u001b[38;5;241m.\u001b[39mconv1(x)\n\u001b[0;32m---> 37\u001b[0m     pool1 \u001b[38;5;241m=\u001b[39m \u001b[38;5;28;43mself\u001b[39;49m\u001b[38;5;241;43m.\u001b[39;49m\u001b[43mpool1\u001b[49m\u001b[43m(\u001b[49m\u001b[43mconv1\u001b[49m\u001b[43m)\u001b[49m\n\u001b[1;32m     38\u001b[0m     conv2 \u001b[38;5;241m=\u001b[39m \u001b[38;5;28mself\u001b[39m\u001b[38;5;241m.\u001b[39mconv2(pool1)\n\u001b[1;32m     39\u001b[0m     pool2 \u001b[38;5;241m=\u001b[39m \u001b[38;5;28mself\u001b[39m\u001b[38;5;241m.\u001b[39mpool2(conv2)\n",
      "File \u001b[0;32m~/.conda/envs/pytorch/lib/python3.9/site-packages/torch/nn/modules/module.py:1128\u001b[0m, in \u001b[0;36mModule._call_impl\u001b[0;34m(self, *input, **kwargs)\u001b[0m\n\u001b[1;32m   1125\u001b[0m     bw_hook \u001b[38;5;241m=\u001b[39m hooks\u001b[38;5;241m.\u001b[39mBackwardHook(\u001b[38;5;28mself\u001b[39m, full_backward_hooks)\n\u001b[1;32m   1126\u001b[0m     \u001b[38;5;28minput\u001b[39m \u001b[38;5;241m=\u001b[39m bw_hook\u001b[38;5;241m.\u001b[39msetup_input_hook(\u001b[38;5;28minput\u001b[39m)\n\u001b[0;32m-> 1128\u001b[0m result \u001b[38;5;241m=\u001b[39m \u001b[43mforward_call\u001b[49m\u001b[43m(\u001b[49m\u001b[38;5;241;43m*\u001b[39;49m\u001b[38;5;28;43minput\u001b[39;49m\u001b[43m,\u001b[49m\u001b[43m \u001b[49m\u001b[38;5;241;43m*\u001b[39;49m\u001b[38;5;241;43m*\u001b[39;49m\u001b[43mkwargs\u001b[49m\u001b[43m)\u001b[49m\n\u001b[1;32m   1129\u001b[0m \u001b[38;5;28;01mif\u001b[39;00m _global_forward_hooks \u001b[38;5;129;01mor\u001b[39;00m \u001b[38;5;28mself\u001b[39m\u001b[38;5;241m.\u001b[39m_forward_hooks:\n\u001b[1;32m   1130\u001b[0m     \u001b[38;5;28;01mfor\u001b[39;00m hook \u001b[38;5;129;01min\u001b[39;00m (\u001b[38;5;241m*\u001b[39m_global_forward_hooks\u001b[38;5;241m.\u001b[39mvalues(), \u001b[38;5;241m*\u001b[39m\u001b[38;5;28mself\u001b[39m\u001b[38;5;241m.\u001b[39m_forward_hooks\u001b[38;5;241m.\u001b[39mvalues()):\n",
      "File \u001b[0;32m~/.conda/envs/pytorch/lib/python3.9/site-packages/torch/nn/modules/pooling.py:240\u001b[0m, in \u001b[0;36mMaxPool3d.forward\u001b[0;34m(self, input)\u001b[0m\n\u001b[1;32m    239\u001b[0m \u001b[38;5;28;01mdef\u001b[39;00m \u001b[38;5;21mforward\u001b[39m(\u001b[38;5;28mself\u001b[39m, \u001b[38;5;28minput\u001b[39m: Tensor):\n\u001b[0;32m--> 240\u001b[0m     \u001b[38;5;28;01mreturn\u001b[39;00m \u001b[43mF\u001b[49m\u001b[38;5;241;43m.\u001b[39;49m\u001b[43mmax_pool3d\u001b[49m\u001b[43m(\u001b[49m\u001b[38;5;28;43minput\u001b[39;49m\u001b[43m,\u001b[49m\u001b[43m \u001b[49m\u001b[38;5;28;43mself\u001b[39;49m\u001b[38;5;241;43m.\u001b[39;49m\u001b[43mkernel_size\u001b[49m\u001b[43m,\u001b[49m\u001b[43m \u001b[49m\u001b[38;5;28;43mself\u001b[39;49m\u001b[38;5;241;43m.\u001b[39;49m\u001b[43mstride\u001b[49m\u001b[43m,\u001b[49m\n\u001b[1;32m    241\u001b[0m \u001b[43m                        \u001b[49m\u001b[38;5;28;43mself\u001b[39;49m\u001b[38;5;241;43m.\u001b[39;49m\u001b[43mpadding\u001b[49m\u001b[43m,\u001b[49m\u001b[43m \u001b[49m\u001b[38;5;28;43mself\u001b[39;49m\u001b[38;5;241;43m.\u001b[39;49m\u001b[43mdilation\u001b[49m\u001b[43m,\u001b[49m\u001b[43m \u001b[49m\u001b[38;5;28;43mself\u001b[39;49m\u001b[38;5;241;43m.\u001b[39;49m\u001b[43mceil_mode\u001b[49m\u001b[43m,\u001b[49m\n\u001b[1;32m    242\u001b[0m \u001b[43m                        \u001b[49m\u001b[38;5;28;43mself\u001b[39;49m\u001b[38;5;241;43m.\u001b[39;49m\u001b[43mreturn_indices\u001b[49m\u001b[43m)\u001b[49m\n",
      "File \u001b[0;32m~/.conda/envs/pytorch/lib/python3.9/site-packages/torch/_jit_internal.py:422\u001b[0m, in \u001b[0;36mboolean_dispatch.<locals>.fn\u001b[0;34m(*args, **kwargs)\u001b[0m\n\u001b[1;32m    420\u001b[0m     \u001b[38;5;28;01mreturn\u001b[39;00m if_true(\u001b[38;5;241m*\u001b[39margs, \u001b[38;5;241m*\u001b[39m\u001b[38;5;241m*\u001b[39mkwargs)\n\u001b[1;32m    421\u001b[0m \u001b[38;5;28;01melse\u001b[39;00m:\n\u001b[0;32m--> 422\u001b[0m     \u001b[38;5;28;01mreturn\u001b[39;00m \u001b[43mif_false\u001b[49m\u001b[43m(\u001b[49m\u001b[38;5;241;43m*\u001b[39;49m\u001b[43margs\u001b[49m\u001b[43m,\u001b[49m\u001b[43m \u001b[49m\u001b[38;5;241;43m*\u001b[39;49m\u001b[38;5;241;43m*\u001b[39;49m\u001b[43mkwargs\u001b[49m\u001b[43m)\u001b[49m\n",
      "File \u001b[0;32m~/.conda/envs/pytorch/lib/python3.9/site-packages/torch/nn/functional.py:895\u001b[0m, in \u001b[0;36m_max_pool3d\u001b[0;34m(input, kernel_size, stride, padding, dilation, ceil_mode, return_indices)\u001b[0m\n\u001b[1;32m    893\u001b[0m \u001b[38;5;28;01mif\u001b[39;00m stride \u001b[38;5;129;01mis\u001b[39;00m \u001b[38;5;28;01mNone\u001b[39;00m:\n\u001b[1;32m    894\u001b[0m     stride \u001b[38;5;241m=\u001b[39m torch\u001b[38;5;241m.\u001b[39mjit\u001b[38;5;241m.\u001b[39mannotate(List[\u001b[38;5;28mint\u001b[39m], [])\n\u001b[0;32m--> 895\u001b[0m \u001b[38;5;28;01mreturn\u001b[39;00m \u001b[43mtorch\u001b[49m\u001b[38;5;241;43m.\u001b[39;49m\u001b[43mmax_pool3d\u001b[49m\u001b[43m(\u001b[49m\u001b[38;5;28;43minput\u001b[39;49m\u001b[43m,\u001b[49m\u001b[43m \u001b[49m\u001b[43mkernel_size\u001b[49m\u001b[43m,\u001b[49m\u001b[43m \u001b[49m\u001b[43mstride\u001b[49m\u001b[43m,\u001b[49m\u001b[43m \u001b[49m\u001b[43mpadding\u001b[49m\u001b[43m,\u001b[49m\u001b[43m \u001b[49m\u001b[43mdilation\u001b[49m\u001b[43m,\u001b[49m\u001b[43m \u001b[49m\u001b[43mceil_mode\u001b[49m\u001b[43m)\u001b[49m\n",
      "\u001b[0;31mRuntimeError\u001b[0m: CUDA out of memory. Tried to allocate 32.00 MiB (GPU 0; 31.75 GiB total capacity; 19.89 GiB already allocated; 10.52 GiB free; 20.00 GiB reserved in total by PyTorch) If reserved memory is >> allocated memory try setting max_split_size_mb to avoid fragmentation.  See documentation for Memory Management and PYTORCH_CUDA_ALLOC_CONF"
     ]
    }
   ],
   "source": [
    "\n",
    "summary(model,(4,64,64,64))"
   ]
  },
  {
   "cell_type": "code",
   "execution_count": 12,
   "id": "708a3fb5-572e-4c77-a1f9-7ab50c2584ea",
   "metadata": {},
   "outputs": [],
   "source": [
    "def Dice(output, target, eps=1e-5):\n",
    "    target = target.float()\n",
    "    num = 2 * (output * target).sum()\n",
    "    den = output.sum() + target.sum() + eps\n",
    "    return 1.0 - num/den\n",
    "\n",
    "def softmax_dice(output, target):\n",
    "    '''\n",
    "    The dice loss for using softmax activation function\n",
    "    :param output: (b, num_class, d, h, w)\n",
    "    :param target: (b, d, h, w)\n",
    "    :return: softmax dice loss\n",
    "    '''\n",
    "    target[target == 4] = 3 \n",
    "    loss0 = Dice(output[:, 0, ...], (target == 0).float())\n",
    "    loss1 = Dice(output[:, 1, ...], (target == 1).float())\n",
    "    loss2 = Dice(output[:, 2, ...], (target == 2).float())\n",
    "    loss3 = Dice(output[:, 3, ...], (target == 3).float())\n",
    "\n",
    "    return loss1 + loss2 + loss3 + loss0, 1-loss1.data, 1-loss2.data, 1-loss3.data"
   ]
  },
  {
   "cell_type": "code",
   "execution_count": 13,
   "id": "005bc5b2-81b4-4088-afa2-9ba1ff01fd61",
   "metadata": {},
   "outputs": [],
   "source": [
    "opt = torch.optim.Adam(model.parameters(), lr=0.001)"
   ]
  },
  {
   "cell_type": "code",
   "execution_count": 14,
   "id": "8a5d39ac-a82d-4901-9cb1-f07434dc9e07",
   "metadata": {},
   "outputs": [],
   "source": [
    "import time "
   ]
  },
  {
   "cell_type": "code",
   "execution_count": 15,
   "id": "59a2dbb5-4c6c-443f-9c3a-c2c268ab2dd2",
   "metadata": {},
   "outputs": [],
   "source": [
    "def train(model, data_loader, optimizer, res_every):\n",
    "    start_time = time.time()\n",
    "    torch.cuda.empty_cache()\n",
    "    model.train()\n",
    "    for i, data in enumerate(data_loader):\n",
    "        x, target = data\n",
    "        x = x.cuda()\n",
    "        target = target.cuda()\n",
    "        \n",
    "        output = model(x)\n",
    "        \n",
    "        loss, loss1, loss2, loss3 = softmax_dice(output, target)\n",
    "        opt.zero_grad()\n",
    "        loss.backward()\n",
    "        optimizer.step()\n",
    "        if i%res_every==0:\n",
    "            print(f\"Overall Loss: {loss.item()} | L1 Dice : {loss1.item()} | L2 Dice : {loss2.item()} | L3 Dice : {loss3.item()}\")\n",
    "        \n",
    "    end_time = time.time()\n",
    "    e_time = end_time - start_time\n",
    "    e_time /= 60\n",
    "    print(f\"Time {e_time}\")"
   ]
  },
  {
   "cell_type": "code",
   "execution_count": 16,
   "id": "1a90d615-3571-43e7-8f3b-8940a40b2f76",
   "metadata": {},
   "outputs": [],
   "source": [
    "nEpochs = 5\n",
    "res_every = 20"
   ]
  },
  {
   "cell_type": "code",
   "execution_count": 17,
   "id": "cb9633ae-93a2-44d0-a304-3261bab2e339",
   "metadata": {},
   "outputs": [
    {
     "ename": "RuntimeError",
     "evalue": "CUDA out of memory. Tried to allocate 512.00 MiB (GPU 0; 31.75 GiB total capacity; 19.49 GiB already allocated; 10.90 GiB free; 19.62 GiB reserved in total by PyTorch) If reserved memory is >> allocated memory try setting max_split_size_mb to avoid fragmentation.  See documentation for Memory Management and PYTORCH_CUDA_ALLOC_CONF",
     "output_type": "error",
     "traceback": [
      "\u001b[0;31m---------------------------------------------------------------------------\u001b[0m",
      "\u001b[0;31mRuntimeError\u001b[0m                              Traceback (most recent call last)",
      "Input \u001b[0;32mIn [17]\u001b[0m, in \u001b[0;36m<cell line: 1>\u001b[0;34m()\u001b[0m\n\u001b[1;32m      1\u001b[0m \u001b[38;5;28;01mfor\u001b[39;00m epoch \u001b[38;5;129;01min\u001b[39;00m \u001b[38;5;28mrange\u001b[39m(nEpochs):\n\u001b[0;32m----> 2\u001b[0m     \u001b[43mtrain\u001b[49m\u001b[43m(\u001b[49m\u001b[43mmodel\u001b[49m\u001b[43m,\u001b[49m\u001b[43m \u001b[49m\u001b[43mtrain_loader\u001b[49m\u001b[43m,\u001b[49m\u001b[43m \u001b[49m\u001b[43mopt\u001b[49m\u001b[43m,\u001b[49m\u001b[43mres_every\u001b[49m\u001b[43m)\u001b[49m\n",
      "Input \u001b[0;32mIn [15]\u001b[0m, in \u001b[0;36mtrain\u001b[0;34m(model, data_loader, optimizer, res_every)\u001b[0m\n\u001b[1;32m      7\u001b[0m x \u001b[38;5;241m=\u001b[39m x\u001b[38;5;241m.\u001b[39mcuda()\n\u001b[1;32m      8\u001b[0m target \u001b[38;5;241m=\u001b[39m target\u001b[38;5;241m.\u001b[39mcuda()\n\u001b[0;32m---> 10\u001b[0m output \u001b[38;5;241m=\u001b[39m \u001b[43mmodel\u001b[49m\u001b[43m(\u001b[49m\u001b[43mx\u001b[49m\u001b[43m)\u001b[49m\n\u001b[1;32m     12\u001b[0m loss, loss1, loss2, loss3 \u001b[38;5;241m=\u001b[39m softmax_dice(output, target)\n\u001b[1;32m     13\u001b[0m opt\u001b[38;5;241m.\u001b[39mzero_grad()\n",
      "File \u001b[0;32m~/.conda/envs/pytorch/lib/python3.9/site-packages/torch/nn/modules/module.py:1110\u001b[0m, in \u001b[0;36mModule._call_impl\u001b[0;34m(self, *input, **kwargs)\u001b[0m\n\u001b[1;32m   1106\u001b[0m \u001b[38;5;66;03m# If we don't have any hooks, we want to skip the rest of the logic in\u001b[39;00m\n\u001b[1;32m   1107\u001b[0m \u001b[38;5;66;03m# this function, and just call forward.\u001b[39;00m\n\u001b[1;32m   1108\u001b[0m \u001b[38;5;28;01mif\u001b[39;00m \u001b[38;5;129;01mnot\u001b[39;00m (\u001b[38;5;28mself\u001b[39m\u001b[38;5;241m.\u001b[39m_backward_hooks \u001b[38;5;129;01mor\u001b[39;00m \u001b[38;5;28mself\u001b[39m\u001b[38;5;241m.\u001b[39m_forward_hooks \u001b[38;5;129;01mor\u001b[39;00m \u001b[38;5;28mself\u001b[39m\u001b[38;5;241m.\u001b[39m_forward_pre_hooks \u001b[38;5;129;01mor\u001b[39;00m _global_backward_hooks\n\u001b[1;32m   1109\u001b[0m         \u001b[38;5;129;01mor\u001b[39;00m _global_forward_hooks \u001b[38;5;129;01mor\u001b[39;00m _global_forward_pre_hooks):\n\u001b[0;32m-> 1110\u001b[0m     \u001b[38;5;28;01mreturn\u001b[39;00m \u001b[43mforward_call\u001b[49m\u001b[43m(\u001b[49m\u001b[38;5;241;43m*\u001b[39;49m\u001b[38;5;28;43minput\u001b[39;49m\u001b[43m,\u001b[49m\u001b[43m \u001b[49m\u001b[38;5;241;43m*\u001b[39;49m\u001b[38;5;241;43m*\u001b[39;49m\u001b[43mkwargs\u001b[49m\u001b[43m)\u001b[49m\n\u001b[1;32m   1111\u001b[0m \u001b[38;5;66;03m# Do not call functions when jit is used\u001b[39;00m\n\u001b[1;32m   1112\u001b[0m full_backward_hooks, non_full_backward_hooks \u001b[38;5;241m=\u001b[39m [], []\n",
      "Input \u001b[0;32mIn [8]\u001b[0m, in \u001b[0;36mUnet3D.forward\u001b[0;34m(self, x)\u001b[0m\n\u001b[1;32m     34\u001b[0m \u001b[38;5;28;01mdef\u001b[39;00m \u001b[38;5;21mforward\u001b[39m(\u001b[38;5;28mself\u001b[39m,x):\n\u001b[0;32m---> 36\u001b[0m     conv1 \u001b[38;5;241m=\u001b[39m \u001b[38;5;28;43mself\u001b[39;49m\u001b[38;5;241;43m.\u001b[39;49m\u001b[43mconv1\u001b[49m\u001b[43m(\u001b[49m\u001b[43mx\u001b[49m\u001b[43m)\u001b[49m\n\u001b[1;32m     37\u001b[0m     pool1 \u001b[38;5;241m=\u001b[39m \u001b[38;5;28mself\u001b[39m\u001b[38;5;241m.\u001b[39mpool1(conv1)\n\u001b[1;32m     38\u001b[0m     conv2 \u001b[38;5;241m=\u001b[39m \u001b[38;5;28mself\u001b[39m\u001b[38;5;241m.\u001b[39mconv2(pool1)\n",
      "File \u001b[0;32m~/.conda/envs/pytorch/lib/python3.9/site-packages/torch/nn/modules/module.py:1110\u001b[0m, in \u001b[0;36mModule._call_impl\u001b[0;34m(self, *input, **kwargs)\u001b[0m\n\u001b[1;32m   1106\u001b[0m \u001b[38;5;66;03m# If we don't have any hooks, we want to skip the rest of the logic in\u001b[39;00m\n\u001b[1;32m   1107\u001b[0m \u001b[38;5;66;03m# this function, and just call forward.\u001b[39;00m\n\u001b[1;32m   1108\u001b[0m \u001b[38;5;28;01mif\u001b[39;00m \u001b[38;5;129;01mnot\u001b[39;00m (\u001b[38;5;28mself\u001b[39m\u001b[38;5;241m.\u001b[39m_backward_hooks \u001b[38;5;129;01mor\u001b[39;00m \u001b[38;5;28mself\u001b[39m\u001b[38;5;241m.\u001b[39m_forward_hooks \u001b[38;5;129;01mor\u001b[39;00m \u001b[38;5;28mself\u001b[39m\u001b[38;5;241m.\u001b[39m_forward_pre_hooks \u001b[38;5;129;01mor\u001b[39;00m _global_backward_hooks\n\u001b[1;32m   1109\u001b[0m         \u001b[38;5;129;01mor\u001b[39;00m _global_forward_hooks \u001b[38;5;129;01mor\u001b[39;00m _global_forward_pre_hooks):\n\u001b[0;32m-> 1110\u001b[0m     \u001b[38;5;28;01mreturn\u001b[39;00m \u001b[43mforward_call\u001b[49m\u001b[43m(\u001b[49m\u001b[38;5;241;43m*\u001b[39;49m\u001b[38;5;28;43minput\u001b[39;49m\u001b[43m,\u001b[49m\u001b[43m \u001b[49m\u001b[38;5;241;43m*\u001b[39;49m\u001b[38;5;241;43m*\u001b[39;49m\u001b[43mkwargs\u001b[49m\u001b[43m)\u001b[49m\n\u001b[1;32m   1111\u001b[0m \u001b[38;5;66;03m# Do not call functions when jit is used\u001b[39;00m\n\u001b[1;32m   1112\u001b[0m full_backward_hooks, non_full_backward_hooks \u001b[38;5;241m=\u001b[39m [], []\n",
      "File \u001b[0;32m~/.conda/envs/pytorch/lib/python3.9/site-packages/torch/nn/modules/container.py:141\u001b[0m, in \u001b[0;36mSequential.forward\u001b[0;34m(self, input)\u001b[0m\n\u001b[1;32m    139\u001b[0m \u001b[38;5;28;01mdef\u001b[39;00m \u001b[38;5;21mforward\u001b[39m(\u001b[38;5;28mself\u001b[39m, \u001b[38;5;28minput\u001b[39m):\n\u001b[1;32m    140\u001b[0m     \u001b[38;5;28;01mfor\u001b[39;00m module \u001b[38;5;129;01min\u001b[39;00m \u001b[38;5;28mself\u001b[39m:\n\u001b[0;32m--> 141\u001b[0m         \u001b[38;5;28minput\u001b[39m \u001b[38;5;241m=\u001b[39m \u001b[43mmodule\u001b[49m\u001b[43m(\u001b[49m\u001b[38;5;28;43minput\u001b[39;49m\u001b[43m)\u001b[49m\n\u001b[1;32m    142\u001b[0m     \u001b[38;5;28;01mreturn\u001b[39;00m \u001b[38;5;28minput\u001b[39m\n",
      "File \u001b[0;32m~/.conda/envs/pytorch/lib/python3.9/site-packages/torch/nn/modules/module.py:1128\u001b[0m, in \u001b[0;36mModule._call_impl\u001b[0;34m(self, *input, **kwargs)\u001b[0m\n\u001b[1;32m   1125\u001b[0m     bw_hook \u001b[38;5;241m=\u001b[39m hooks\u001b[38;5;241m.\u001b[39mBackwardHook(\u001b[38;5;28mself\u001b[39m, full_backward_hooks)\n\u001b[1;32m   1126\u001b[0m     \u001b[38;5;28minput\u001b[39m \u001b[38;5;241m=\u001b[39m bw_hook\u001b[38;5;241m.\u001b[39msetup_input_hook(\u001b[38;5;28minput\u001b[39m)\n\u001b[0;32m-> 1128\u001b[0m result \u001b[38;5;241m=\u001b[39m \u001b[43mforward_call\u001b[49m\u001b[43m(\u001b[49m\u001b[38;5;241;43m*\u001b[39;49m\u001b[38;5;28;43minput\u001b[39;49m\u001b[43m,\u001b[49m\u001b[43m \u001b[49m\u001b[38;5;241;43m*\u001b[39;49m\u001b[38;5;241;43m*\u001b[39;49m\u001b[43mkwargs\u001b[49m\u001b[43m)\u001b[49m\n\u001b[1;32m   1129\u001b[0m \u001b[38;5;28;01mif\u001b[39;00m _global_forward_hooks \u001b[38;5;129;01mor\u001b[39;00m \u001b[38;5;28mself\u001b[39m\u001b[38;5;241m.\u001b[39m_forward_hooks:\n\u001b[1;32m   1130\u001b[0m     \u001b[38;5;28;01mfor\u001b[39;00m hook \u001b[38;5;129;01min\u001b[39;00m (\u001b[38;5;241m*\u001b[39m_global_forward_hooks\u001b[38;5;241m.\u001b[39mvalues(), \u001b[38;5;241m*\u001b[39m\u001b[38;5;28mself\u001b[39m\u001b[38;5;241m.\u001b[39m_forward_hooks\u001b[38;5;241m.\u001b[39mvalues()):\n",
      "File \u001b[0;32m~/.conda/envs/pytorch/lib/python3.9/site-packages/torch/nn/modules/conv.py:592\u001b[0m, in \u001b[0;36mConv3d.forward\u001b[0;34m(self, input)\u001b[0m\n\u001b[1;32m    591\u001b[0m \u001b[38;5;28;01mdef\u001b[39;00m \u001b[38;5;21mforward\u001b[39m(\u001b[38;5;28mself\u001b[39m, \u001b[38;5;28minput\u001b[39m: Tensor) \u001b[38;5;241m-\u001b[39m\u001b[38;5;241m>\u001b[39m Tensor:\n\u001b[0;32m--> 592\u001b[0m     \u001b[38;5;28;01mreturn\u001b[39;00m \u001b[38;5;28;43mself\u001b[39;49m\u001b[38;5;241;43m.\u001b[39;49m\u001b[43m_conv_forward\u001b[49m\u001b[43m(\u001b[49m\u001b[38;5;28;43minput\u001b[39;49m\u001b[43m,\u001b[49m\u001b[43m \u001b[49m\u001b[38;5;28;43mself\u001b[39;49m\u001b[38;5;241;43m.\u001b[39;49m\u001b[43mweight\u001b[49m\u001b[43m,\u001b[49m\u001b[43m \u001b[49m\u001b[38;5;28;43mself\u001b[39;49m\u001b[38;5;241;43m.\u001b[39;49m\u001b[43mbias\u001b[49m\u001b[43m)\u001b[49m\n",
      "File \u001b[0;32m~/.conda/envs/pytorch/lib/python3.9/site-packages/torch/nn/modules/conv.py:587\u001b[0m, in \u001b[0;36mConv3d._conv_forward\u001b[0;34m(self, input, weight, bias)\u001b[0m\n\u001b[1;32m    575\u001b[0m \u001b[38;5;28;01mif\u001b[39;00m \u001b[38;5;28mself\u001b[39m\u001b[38;5;241m.\u001b[39mpadding_mode \u001b[38;5;241m!=\u001b[39m \u001b[38;5;124m\"\u001b[39m\u001b[38;5;124mzeros\u001b[39m\u001b[38;5;124m\"\u001b[39m:\n\u001b[1;32m    576\u001b[0m     \u001b[38;5;28;01mreturn\u001b[39;00m F\u001b[38;5;241m.\u001b[39mconv3d(\n\u001b[1;32m    577\u001b[0m         F\u001b[38;5;241m.\u001b[39mpad(\n\u001b[1;32m    578\u001b[0m             \u001b[38;5;28minput\u001b[39m, \u001b[38;5;28mself\u001b[39m\u001b[38;5;241m.\u001b[39m_reversed_padding_repeated_twice, mode\u001b[38;5;241m=\u001b[39m\u001b[38;5;28mself\u001b[39m\u001b[38;5;241m.\u001b[39mpadding_mode\n\u001b[0;32m   (...)\u001b[0m\n\u001b[1;32m    585\u001b[0m         \u001b[38;5;28mself\u001b[39m\u001b[38;5;241m.\u001b[39mgroups,\n\u001b[1;32m    586\u001b[0m     )\n\u001b[0;32m--> 587\u001b[0m \u001b[38;5;28;01mreturn\u001b[39;00m \u001b[43mF\u001b[49m\u001b[38;5;241;43m.\u001b[39;49m\u001b[43mconv3d\u001b[49m\u001b[43m(\u001b[49m\n\u001b[1;32m    588\u001b[0m \u001b[43m    \u001b[49m\u001b[38;5;28;43minput\u001b[39;49m\u001b[43m,\u001b[49m\u001b[43m \u001b[49m\u001b[43mweight\u001b[49m\u001b[43m,\u001b[49m\u001b[43m \u001b[49m\u001b[43mbias\u001b[49m\u001b[43m,\u001b[49m\u001b[43m \u001b[49m\u001b[38;5;28;43mself\u001b[39;49m\u001b[38;5;241;43m.\u001b[39;49m\u001b[43mstride\u001b[49m\u001b[43m,\u001b[49m\u001b[43m \u001b[49m\u001b[38;5;28;43mself\u001b[39;49m\u001b[38;5;241;43m.\u001b[39;49m\u001b[43mpadding\u001b[49m\u001b[43m,\u001b[49m\u001b[43m \u001b[49m\u001b[38;5;28;43mself\u001b[39;49m\u001b[38;5;241;43m.\u001b[39;49m\u001b[43mdilation\u001b[49m\u001b[43m,\u001b[49m\u001b[43m \u001b[49m\u001b[38;5;28;43mself\u001b[39;49m\u001b[38;5;241;43m.\u001b[39;49m\u001b[43mgroups\u001b[49m\n\u001b[1;32m    589\u001b[0m \u001b[43m\u001b[49m\u001b[43m)\u001b[49m\n",
      "\u001b[0;31mRuntimeError\u001b[0m: CUDA out of memory. Tried to allocate 512.00 MiB (GPU 0; 31.75 GiB total capacity; 19.49 GiB already allocated; 10.90 GiB free; 19.62 GiB reserved in total by PyTorch) If reserved memory is >> allocated memory try setting max_split_size_mb to avoid fragmentation.  See documentation for Memory Management and PYTORCH_CUDA_ALLOC_CONF"
     ]
    }
   ],
   "source": [
    "for epoch in range(nEpochs):\n",
    "    train(model, train_loader, opt,res_every)\n"
   ]
  },
  {
   "cell_type": "code",
   "execution_count": 58,
   "id": "56103010-8c50-4c95-bd1b-38971e795c23",
   "metadata": {},
   "outputs": [],
   "source": [
    "x = torch.rand(2,4,128,128,128)"
   ]
  },
  {
   "cell_type": "code",
   "execution_count": 40,
   "id": "440757a5-89f7-4b87-a889-7fc8a33583bf",
   "metadata": {},
   "outputs": [
    {
     "data": {
      "text/plain": [
       "torch.Size([2, 4, 128, 128, 128])"
      ]
     },
     "execution_count": 40,
     "metadata": {},
     "output_type": "execute_result"
    }
   ],
   "source": [
    "x.size()"
   ]
  },
  {
   "cell_type": "code",
   "execution_count": 67,
   "id": "f48ec761-e936-4848-88b4-846006869b68",
   "metadata": {},
   "outputs": [],
   "source": [
    "import torch.nn.functional as F"
   ]
  },
  {
   "cell_type": "code",
   "execution_count": 68,
   "id": "4e2a16cb-1e3d-46f2-b0a7-8d0b8fd24df1",
   "metadata": {},
   "outputs": [],
   "source": [
    "y = F.softmax(x, dim=1)"
   ]
  },
  {
   "cell_type": "code",
   "execution_count": null,
   "id": "70b3adcf-9d57-43bc-b727-83d9177ed6a6",
   "metadata": {},
   "outputs": [],
   "source": []
  },
  {
   "cell_type": "code",
   "execution_count": 69,
   "id": "9adf77c5-8fa5-47e4-b3e4-44c306f5a9a0",
   "metadata": {},
   "outputs": [
    {
     "data": {
      "text/plain": [
       "tensor([[[[[0.1607]]],\n",
       "\n",
       "\n",
       "         [[[0.3343]]],\n",
       "\n",
       "\n",
       "         [[[0.1631]]],\n",
       "\n",
       "\n",
       "         [[[0.3419]]]]])"
      ]
     },
     "execution_count": 69,
     "metadata": {},
     "output_type": "execute_result"
    }
   ],
   "source": [
    "y[0:1,:,1:2,1:2,1:2]"
   ]
  },
  {
   "cell_type": "code",
   "execution_count": 103,
   "id": "463ac925-0341-4481-a040-375ed18fad1a",
   "metadata": {},
   "outputs": [
    {
     "data": {
      "text/plain": [
       "tensor([[[[1.0000, 1.0000, 1.0000,  ..., 1.0000, 1.0000, 1.0000],\n",
       "          [1.0000, 1.0000, 1.0000,  ..., 1.0000, 1.0000, 1.0000],\n",
       "          [1.0000, 1.0000, 1.0000,  ..., 1.0000, 1.0000, 1.0000],\n",
       "          ...,\n",
       "          [1.0000, 1.0000, 1.0000,  ..., 1.0000, 1.0000, 1.0000],\n",
       "          [1.0000, 1.0000, 1.0000,  ..., 1.0000, 1.0000, 1.0000],\n",
       "          [1.0000, 1.0000, 1.0000,  ..., 1.0000, 1.0000, 1.0000]],\n",
       "\n",
       "         [[1.0000, 1.0000, 1.0000,  ..., 1.0000, 1.0000, 1.0000],\n",
       "          [1.0000, 1.0000, 1.0000,  ..., 1.0000, 1.0000, 1.0000],\n",
       "          [1.0000, 1.0000, 1.0000,  ..., 1.0000, 1.0000, 1.0000],\n",
       "          ...,\n",
       "          [1.0000, 1.0000, 1.0000,  ..., 1.0000, 1.0000, 1.0000],\n",
       "          [1.0000, 1.0000, 1.0000,  ..., 1.0000, 1.0000, 1.0000],\n",
       "          [1.0000, 1.0000, 1.0000,  ..., 1.0000, 1.0000, 1.0000]],\n",
       "\n",
       "         [[1.0000, 1.0000, 1.0000,  ..., 1.0000, 1.0000, 1.0000],\n",
       "          [1.0000, 1.0000, 1.0000,  ..., 1.0000, 1.0000, 1.0000],\n",
       "          [1.0000, 1.0000, 1.0000,  ..., 1.0000, 1.0000, 1.0000],\n",
       "          ...,\n",
       "          [1.0000, 1.0000, 1.0000,  ..., 1.0000, 1.0000, 1.0000],\n",
       "          [1.0000, 1.0000, 1.0000,  ..., 1.0000, 1.0000, 1.0000],\n",
       "          [1.0000, 1.0000, 1.0000,  ..., 1.0000, 1.0000, 1.0000]],\n",
       "\n",
       "         ...,\n",
       "\n",
       "         [[1.0000, 1.0000, 1.0000,  ..., 1.0000, 1.0000, 1.0000],\n",
       "          [1.0000, 1.0000, 1.0000,  ..., 1.0000, 1.0000, 1.0000],\n",
       "          [1.0000, 1.0000, 1.0000,  ..., 1.0000, 1.0000, 1.0000],\n",
       "          ...,\n",
       "          [1.0000, 1.0000, 1.0000,  ..., 1.0000, 1.0000, 1.0000],\n",
       "          [1.0000, 1.0000, 1.0000,  ..., 1.0000, 1.0000, 1.0000],\n",
       "          [1.0000, 1.0000, 1.0000,  ..., 1.0000, 1.0000, 1.0000]],\n",
       "\n",
       "         [[1.0000, 1.0000, 1.0000,  ..., 1.0000, 1.0000, 1.0000],\n",
       "          [1.0000, 1.0000, 1.0000,  ..., 1.0000, 1.0000, 1.0000],\n",
       "          [1.0000, 1.0000, 1.0000,  ..., 1.0000, 1.0000, 1.0000],\n",
       "          ...,\n",
       "          [1.0000, 1.0000, 1.0000,  ..., 1.0000, 1.0000, 1.0000],\n",
       "          [1.0000, 1.0000, 1.0000,  ..., 1.0000, 1.0000, 1.0000],\n",
       "          [1.0000, 1.0000, 1.0000,  ..., 1.0000, 1.0000, 1.0000]],\n",
       "\n",
       "         [[1.0000, 1.0000, 1.0000,  ..., 1.0000, 1.0000, 1.0000],\n",
       "          [1.0000, 1.0000, 1.0000,  ..., 1.0000, 1.0000, 1.0000],\n",
       "          [1.0000, 1.0000, 1.0000,  ..., 1.0000, 1.0000, 1.0000],\n",
       "          ...,\n",
       "          [1.0000, 1.0000, 1.0000,  ..., 1.0000, 1.0000, 1.0000],\n",
       "          [1.0000, 1.0000, 1.0000,  ..., 1.0000, 1.0000, 1.0000],\n",
       "          [1.0000, 1.0000, 1.0000,  ..., 1.0000, 1.0000, 1.0000]]],\n",
       "\n",
       "\n",
       "        [[[1.0000, 1.0000, 1.0000,  ..., 1.0000, 1.0000, 1.0000],\n",
       "          [1.0000, 1.0000, 1.0000,  ..., 1.0000, 1.0000, 1.0000],\n",
       "          [1.0000, 1.0000, 1.0000,  ..., 1.0000, 1.0000, 1.0000],\n",
       "          ...,\n",
       "          [1.0000, 1.0000, 1.0000,  ..., 1.0000, 1.0000, 1.0000],\n",
       "          [1.0000, 1.0000, 1.0000,  ..., 1.0000, 1.0000, 1.0000],\n",
       "          [1.0000, 1.0000, 1.0000,  ..., 1.0000, 1.0000, 1.0000]],\n",
       "\n",
       "         [[1.0000, 1.0000, 1.0000,  ..., 1.0000, 1.0000, 1.0000],\n",
       "          [1.0000, 1.0000, 1.0000,  ..., 1.0000, 1.0000, 1.0000],\n",
       "          [1.0000, 1.0000, 1.0000,  ..., 1.0000, 1.0000, 1.0000],\n",
       "          ...,\n",
       "          [1.0000, 1.0000, 1.0000,  ..., 1.0000, 1.0000, 1.0000],\n",
       "          [1.0000, 1.0000, 1.0000,  ..., 1.0000, 1.0000, 1.0000],\n",
       "          [1.0000, 1.0000, 1.0000,  ..., 1.0000, 1.0000, 1.0000]],\n",
       "\n",
       "         [[1.0000, 1.0000, 1.0000,  ..., 1.0000, 1.0000, 1.0000],\n",
       "          [1.0000, 1.0000, 1.0000,  ..., 1.0000, 1.0000, 1.0000],\n",
       "          [1.0000, 1.0000, 1.0000,  ..., 1.0000, 1.0000, 1.0000],\n",
       "          ...,\n",
       "          [1.0000, 1.0000, 1.0000,  ..., 1.0000, 1.0000, 1.0000],\n",
       "          [1.0000, 1.0000, 1.0000,  ..., 1.0000, 1.0000, 1.0000],\n",
       "          [1.0000, 1.0000, 1.0000,  ..., 1.0000, 1.0000, 1.0000]],\n",
       "\n",
       "         ...,\n",
       "\n",
       "         [[1.0000, 1.0000, 1.0000,  ..., 1.0000, 1.0000, 1.0000],\n",
       "          [1.0000, 1.0000, 1.0000,  ..., 1.0000, 1.0000, 1.0000],\n",
       "          [1.0000, 1.0000, 1.0000,  ..., 1.0000, 1.0000, 1.0000],\n",
       "          ...,\n",
       "          [1.0000, 1.0000, 1.0000,  ..., 1.0000, 1.0000, 1.0000],\n",
       "          [1.0000, 1.0000, 1.0000,  ..., 1.0000, 1.0000, 1.0000],\n",
       "          [1.0000, 1.0000, 1.0000,  ..., 1.0000, 1.0000, 1.0000]],\n",
       "\n",
       "         [[1.0000, 1.0000, 1.0000,  ..., 1.0000, 1.0000, 1.0000],\n",
       "          [1.0000, 1.0000, 1.0000,  ..., 1.0000, 1.0000, 1.0000],\n",
       "          [1.0000, 1.0000, 1.0000,  ..., 1.0000, 1.0000, 1.0000],\n",
       "          ...,\n",
       "          [1.0000, 1.0000, 1.0000,  ..., 1.0000, 1.0000, 1.0000],\n",
       "          [1.0000, 1.0000, 1.0000,  ..., 1.0000, 1.0000, 1.0000],\n",
       "          [1.0000, 1.0000, 1.0000,  ..., 1.0000, 1.0000, 1.0000]],\n",
       "\n",
       "         [[1.0000, 1.0000, 1.0000,  ..., 1.0000, 1.0000, 1.0000],\n",
       "          [1.0000, 1.0000, 1.0000,  ..., 1.0000, 1.0000, 1.0000],\n",
       "          [1.0000, 1.0000, 1.0000,  ..., 1.0000, 1.0000, 1.0000],\n",
       "          ...,\n",
       "          [1.0000, 1.0000, 1.0000,  ..., 1.0000, 1.0000, 1.0000],\n",
       "          [1.0000, 1.0000, 1.0000,  ..., 1.0000, 1.0000, 1.0000],\n",
       "          [1.0000, 1.0000, 1.0000,  ..., 1.0000, 1.0000, 1.0000]]]])"
      ]
     },
     "execution_count": 103,
     "metadata": {},
     "output_type": "execute_result"
    }
   ],
   "source": [
    "y.sum(axis=1)"
   ]
  },
  {
   "cell_type": "code",
   "execution_count": 80,
   "id": "123403bd-4e85-444f-bd2d-fcddb76a9bd6",
   "metadata": {},
   "outputs": [],
   "source": [
    "r = torch.randint(low=0, high=4, size=(10,10))"
   ]
  },
  {
   "cell_type": "code",
   "execution_count": 81,
   "id": "80f95f33-44f0-448e-bb8f-58512d50565b",
   "metadata": {},
   "outputs": [
    {
     "data": {
      "text/plain": [
       "tensor(3)"
      ]
     },
     "execution_count": 81,
     "metadata": {},
     "output_type": "execute_result"
    }
   ],
   "source": [
    "r.max()"
   ]
  },
  {
   "cell_type": "code",
   "execution_count": 84,
   "id": "d1c581b3-c112-4387-9cc5-6233fbf16492",
   "metadata": {},
   "outputs": [
    {
     "data": {
      "text/plain": [
       "tensor([[3, 1, 2, 0, 3, 3, 1, 3, 0, 3],\n",
       "        [0, 2, 3, 3, 2, 3, 2, 2, 3, 1],\n",
       "        [3, 0, 3, 3, 3, 1, 0, 1, 3, 2],\n",
       "        [0, 2, 0, 3, 0, 0, 3, 1, 3, 3],\n",
       "        [2, 0, 0, 2, 1, 0, 3, 2, 0, 1],\n",
       "        [1, 3, 3, 1, 3, 1, 1, 2, 1, 2],\n",
       "        [2, 2, 0, 1, 3, 1, 3, 0, 1, 0],\n",
       "        [2, 2, 2, 3, 0, 3, 0, 3, 1, 2],\n",
       "        [2, 0, 0, 1, 2, 2, 1, 1, 1, 3],\n",
       "        [2, 1, 3, 1, 0, 0, 1, 3, 1, 1]])"
      ]
     },
     "execution_count": 84,
     "metadata": {},
     "output_type": "execute_result"
    }
   ],
   "source": [
    "r"
   ]
  },
  {
   "cell_type": "code",
   "execution_count": 89,
   "id": "73678e98-9ab3-472f-ac00-e5591bc8a9d8",
   "metadata": {},
   "outputs": [
    {
     "data": {
      "text/plain": [
       "tensor([[1., 0., 0., 0., 1., 1., 0., 1., 0., 1.],\n",
       "        [0., 0., 1., 1., 0., 1., 0., 0., 1., 0.],\n",
       "        [1., 0., 1., 1., 1., 0., 0., 0., 1., 0.],\n",
       "        [0., 0., 0., 1., 0., 0., 1., 0., 1., 1.],\n",
       "        [0., 0., 0., 0., 0., 0., 1., 0., 0., 0.],\n",
       "        [0., 1., 1., 0., 1., 0., 0., 0., 0., 0.],\n",
       "        [0., 0., 0., 0., 1., 0., 1., 0., 0., 0.],\n",
       "        [0., 0., 0., 1., 0., 1., 0., 1., 0., 0.],\n",
       "        [0., 0., 0., 0., 0., 0., 0., 0., 0., 1.],\n",
       "        [0., 0., 1., 0., 0., 0., 0., 1., 0., 0.]])"
      ]
     },
     "execution_count": 89,
     "metadata": {},
     "output_type": "execute_result"
    }
   ],
   "source": [
    "(r==3).float()"
   ]
  },
  {
   "cell_type": "raw",
   "id": "ed0533f8-292c-4ec9-81ca-f0be6462bf22",
   "metadata": {},
   "source": [
    "r"
   ]
  },
  {
   "cell_type": "code",
   "execution_count": null,
   "id": "89e9e4e5-78d4-43f6-8ff4-8593e6617ed0",
   "metadata": {},
   "outputs": [],
   "source": []
  }
 ],
 "metadata": {
  "kernelspec": {
   "display_name": "Python 3 (ipykernel)",
   "language": "python",
   "name": "python3"
  },
  "language_info": {
   "codemirror_mode": {
    "name": "ipython",
    "version": 3
   },
   "file_extension": ".py",
   "mimetype": "text/x-python",
   "name": "python",
   "nbconvert_exporter": "python",
   "pygments_lexer": "ipython3",
   "version": "3.9.11"
  }
 },
 "nbformat": 4,
 "nbformat_minor": 5
}
